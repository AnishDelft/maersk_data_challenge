{
  "nbformat": 4,
  "nbformat_minor": 0,
  "metadata": {
    "colab": {
      "name": "x1_small_powder_model_and_predict.ipynb",
      "provenance": []
    },
    "kernelspec": {
      "name": "python3",
      "display_name": "Python 3"
    },
    "language_info": {
      "name": "python"
    }
  },
  "cells": [
    {
      "cell_type": "code",
      "metadata": {
        "id": "w4MFhrRI37IU"
      },
      "source": [
        "import pandas as pd # Import Pandas for data manipulation using dataframes\n",
        "import numpy as np # Import Numpy for data statistical analysis \n",
        "import matplotlib.pyplot as plt # Import matplotlib for data visualisation\n",
        "import random\n",
        "import seaborn as sns\n",
        "from fbprophet import Prophet\n",
        "from dateutil.parser import parse"
      ],
      "execution_count": 1,
      "outputs": []
    },
    {
      "cell_type": "code",
      "metadata": {
        "colab": {
          "base_uri": "https://localhost:8080/"
        },
        "id": "3DA5wXF14JhZ",
        "outputId": "58f10236-839f-4fd3-cb46-94d6cdaf085d"
      },
      "source": [
        "from google.colab import drive\n",
        "drive.mount('/content/drive')"
      ],
      "execution_count": 2,
      "outputs": [
        {
          "output_type": "stream",
          "text": [
            "Drive already mounted at /content/drive; to attempt to forcibly remount, call drive.mount(\"/content/drive\", force_remount=True).\n"
          ],
          "name": "stdout"
        }
      ]
    },
    {
      "cell_type": "code",
      "metadata": {
        "id": "qyyjkmAD4REm"
      },
      "source": [
        "# Loading the test data in memory\n",
        "test_df = pd.read_csv(\"/content/drive/MyDrive/Maersk/test_data_maersk.csv\")"
      ],
      "execution_count": 3,
      "outputs": []
    },
    {
      "cell_type": "markdown",
      "metadata": {
        "id": "5f8w7RYl4jCG"
      },
      "source": [
        "# Time Series Modeling and prediction for data where ***Manufacturer*** = ***X1*** and ***Product Size*** = ***Small*** and ***Product Type*** = ***Powder***"
      ]
    },
    {
      "cell_type": "code",
      "metadata": {
        "colab": {
          "base_uri": "https://localhost:8080/",
          "height": 203
        },
        "id": "cFZhhRQu4cD9",
        "outputId": "2d411b87-4582-4810-9320-13c0f677bb9e"
      },
      "source": [
        "# Loading the training data in memory\n",
        "df = pd.read_csv(\"/content/drive/MyDrive/Maersk/x1_small_powder_outlier_removed_df.csv\")\n",
        "df.head()"
      ],
      "execution_count": 4,
      "outputs": [
        {
          "output_type": "execute_result",
          "data": {
            "text/html": [
              "<div>\n",
              "<style scoped>\n",
              "    .dataframe tbody tr th:only-of-type {\n",
              "        vertical-align: middle;\n",
              "    }\n",
              "\n",
              "    .dataframe tbody tr th {\n",
              "        vertical-align: top;\n",
              "    }\n",
              "\n",
              "    .dataframe thead th {\n",
              "        text-align: right;\n",
              "    }\n",
              "</style>\n",
              "<table border=\"1\" class=\"dataframe\">\n",
              "  <thead>\n",
              "    <tr style=\"text-align: right;\">\n",
              "      <th></th>\n",
              "      <th>Month of Sourcing</th>\n",
              "      <th>Sourcing Cost</th>\n",
              "    </tr>\n",
              "  </thead>\n",
              "  <tbody>\n",
              "    <tr>\n",
              "      <th>0</th>\n",
              "      <td>Feb-21</td>\n",
              "      <td>107.22</td>\n",
              "    </tr>\n",
              "    <tr>\n",
              "      <th>1</th>\n",
              "      <td>Feb-21</td>\n",
              "      <td>145.79</td>\n",
              "    </tr>\n",
              "    <tr>\n",
              "      <th>2</th>\n",
              "      <td>Feb-21</td>\n",
              "      <td>89.24</td>\n",
              "    </tr>\n",
              "    <tr>\n",
              "      <th>3</th>\n",
              "      <td>Feb-21</td>\n",
              "      <td>107.60</td>\n",
              "    </tr>\n",
              "    <tr>\n",
              "      <th>4</th>\n",
              "      <td>Feb-21</td>\n",
              "      <td>49.18</td>\n",
              "    </tr>\n",
              "  </tbody>\n",
              "</table>\n",
              "</div>"
            ],
            "text/plain": [
              "  Month of Sourcing  Sourcing Cost\n",
              "0            Feb-21         107.22\n",
              "1            Feb-21         145.79\n",
              "2            Feb-21          89.24\n",
              "3            Feb-21         107.60\n",
              "4            Feb-21          49.18"
            ]
          },
          "metadata": {
            "tags": []
          },
          "execution_count": 4
        }
      ]
    },
    {
      "cell_type": "code",
      "metadata": {
        "colab": {
          "base_uri": "https://localhost:8080/",
          "height": 203
        },
        "id": "PEUAAIlQ43DU",
        "outputId": "5ce8b4af-ac2a-4d6a-fa19-2e14b6b68046"
      },
      "source": [
        "# Converting the Month of Sourcing data from strinf to datetime format for training\n",
        "df[\"Month of Sourcing\"] = df[\"Month of Sourcing\"].str.replace('-','-20')\n",
        "df[\"Month of Sourcing\"]= df.apply(lambda x: parse(x['Month of Sourcing']),axis=1)\n",
        "df.head()"
      ],
      "execution_count": 5,
      "outputs": [
        {
          "output_type": "execute_result",
          "data": {
            "text/html": [
              "<div>\n",
              "<style scoped>\n",
              "    .dataframe tbody tr th:only-of-type {\n",
              "        vertical-align: middle;\n",
              "    }\n",
              "\n",
              "    .dataframe tbody tr th {\n",
              "        vertical-align: top;\n",
              "    }\n",
              "\n",
              "    .dataframe thead th {\n",
              "        text-align: right;\n",
              "    }\n",
              "</style>\n",
              "<table border=\"1\" class=\"dataframe\">\n",
              "  <thead>\n",
              "    <tr style=\"text-align: right;\">\n",
              "      <th></th>\n",
              "      <th>Month of Sourcing</th>\n",
              "      <th>Sourcing Cost</th>\n",
              "    </tr>\n",
              "  </thead>\n",
              "  <tbody>\n",
              "    <tr>\n",
              "      <th>0</th>\n",
              "      <td>2021-02-25</td>\n",
              "      <td>107.22</td>\n",
              "    </tr>\n",
              "    <tr>\n",
              "      <th>1</th>\n",
              "      <td>2021-02-25</td>\n",
              "      <td>145.79</td>\n",
              "    </tr>\n",
              "    <tr>\n",
              "      <th>2</th>\n",
              "      <td>2021-02-25</td>\n",
              "      <td>89.24</td>\n",
              "    </tr>\n",
              "    <tr>\n",
              "      <th>3</th>\n",
              "      <td>2021-02-25</td>\n",
              "      <td>107.60</td>\n",
              "    </tr>\n",
              "    <tr>\n",
              "      <th>4</th>\n",
              "      <td>2021-02-25</td>\n",
              "      <td>49.18</td>\n",
              "    </tr>\n",
              "  </tbody>\n",
              "</table>\n",
              "</div>"
            ],
            "text/plain": [
              "  Month of Sourcing  Sourcing Cost\n",
              "0        2021-02-25         107.22\n",
              "1        2021-02-25         145.79\n",
              "2        2021-02-25          89.24\n",
              "3        2021-02-25         107.60\n",
              "4        2021-02-25          49.18"
            ]
          },
          "metadata": {
            "tags": []
          },
          "execution_count": 5
        }
      ]
    },
    {
      "cell_type": "code",
      "metadata": {
        "colab": {
          "base_uri": "https://localhost:8080/",
          "height": 417
        },
        "id": "ssdkPhFn49HW",
        "outputId": "6dcaa84f-494c-45df-c4a0-3fbe5c2f98f1"
      },
      "source": [
        "# Ordering the training data by Month of Sourcing (oldest to newest)\n",
        "data = df\n",
        "data.sort_values(by=[\"Month of Sourcing\"])"
      ],
      "execution_count": 6,
      "outputs": [
        {
          "output_type": "execute_result",
          "data": {
            "text/html": [
              "<div>\n",
              "<style scoped>\n",
              "    .dataframe tbody tr th:only-of-type {\n",
              "        vertical-align: middle;\n",
              "    }\n",
              "\n",
              "    .dataframe tbody tr th {\n",
              "        vertical-align: top;\n",
              "    }\n",
              "\n",
              "    .dataframe thead th {\n",
              "        text-align: right;\n",
              "    }\n",
              "</style>\n",
              "<table border=\"1\" class=\"dataframe\">\n",
              "  <thead>\n",
              "    <tr style=\"text-align: right;\">\n",
              "      <th></th>\n",
              "      <th>Month of Sourcing</th>\n",
              "      <th>Sourcing Cost</th>\n",
              "    </tr>\n",
              "  </thead>\n",
              "  <tbody>\n",
              "    <tr>\n",
              "      <th>49745</th>\n",
              "      <td>2020-07-25</td>\n",
              "      <td>56.52</td>\n",
              "    </tr>\n",
              "    <tr>\n",
              "      <th>56102</th>\n",
              "      <td>2020-07-25</td>\n",
              "      <td>186.62</td>\n",
              "    </tr>\n",
              "    <tr>\n",
              "      <th>56103</th>\n",
              "      <td>2020-07-25</td>\n",
              "      <td>89.49</td>\n",
              "    </tr>\n",
              "    <tr>\n",
              "      <th>56104</th>\n",
              "      <td>2020-07-25</td>\n",
              "      <td>135.29</td>\n",
              "    </tr>\n",
              "    <tr>\n",
              "      <th>56105</th>\n",
              "      <td>2020-07-25</td>\n",
              "      <td>114.90</td>\n",
              "    </tr>\n",
              "    <tr>\n",
              "      <th>...</th>\n",
              "      <td>...</td>\n",
              "      <td>...</td>\n",
              "    </tr>\n",
              "    <tr>\n",
              "      <th>83515</th>\n",
              "      <td>2021-05-25</td>\n",
              "      <td>64.46</td>\n",
              "    </tr>\n",
              "    <tr>\n",
              "      <th>83514</th>\n",
              "      <td>2021-05-25</td>\n",
              "      <td>150.00</td>\n",
              "    </tr>\n",
              "    <tr>\n",
              "      <th>83513</th>\n",
              "      <td>2021-05-25</td>\n",
              "      <td>150.00</td>\n",
              "    </tr>\n",
              "    <tr>\n",
              "      <th>83525</th>\n",
              "      <td>2021-05-25</td>\n",
              "      <td>150.98</td>\n",
              "    </tr>\n",
              "    <tr>\n",
              "      <th>81242</th>\n",
              "      <td>2021-05-25</td>\n",
              "      <td>143.73</td>\n",
              "    </tr>\n",
              "  </tbody>\n",
              "</table>\n",
              "<p>162485 rows × 2 columns</p>\n",
              "</div>"
            ],
            "text/plain": [
              "      Month of Sourcing  Sourcing Cost\n",
              "49745        2020-07-25          56.52\n",
              "56102        2020-07-25         186.62\n",
              "56103        2020-07-25          89.49\n",
              "56104        2020-07-25         135.29\n",
              "56105        2020-07-25         114.90\n",
              "...                 ...            ...\n",
              "83515        2021-05-25          64.46\n",
              "83514        2021-05-25         150.00\n",
              "83513        2021-05-25         150.00\n",
              "83525        2021-05-25         150.98\n",
              "81242        2021-05-25         143.73\n",
              "\n",
              "[162485 rows x 2 columns]"
            ]
          },
          "metadata": {
            "tags": []
          },
          "execution_count": 6
        }
      ]
    },
    {
      "cell_type": "code",
      "metadata": {
        "colab": {
          "base_uri": "https://localhost:8080/",
          "height": 613
        },
        "id": "480Pq5KB5DYb",
        "outputId": "67a29b83-beb3-4463-c8c0-eb639ac5934f"
      },
      "source": [
        "# Plottting the training data to visualize the scatter plot of the grouped time-series\n",
        "plt.figure(figsize=(10,10))\n",
        "plt.scatter(data[\"Month of Sourcing\"], data[\"Sourcing Cost\"])\n",
        "plt.ylim((0,500))"
      ],
      "execution_count": 7,
      "outputs": [
        {
          "output_type": "execute_result",
          "data": {
            "text/plain": [
              "(0.0, 500.0)"
            ]
          },
          "metadata": {
            "tags": []
          },
          "execution_count": 7
        },
        {
          "output_type": "display_data",
          "data": {
            "image/png": "[encoded data removed]",
            "text/plain": [
              "<Figure size 720x720 with 1 Axes>"
            ]
          },
          "metadata": {
            "tags": [],
            "needs_background": "light"
          }
        }
      ]
    },
    {
      "cell_type": "code",
      "metadata": {
        "id": "8Rt1YeH_5HjC"
      },
      "source": [
        "# renaming the columns to symbolize the timestamp and the target\n",
        "data = data.rename(columns={\"Month of Sourcing\":\"ds\", \"Sourcing Cost\":\"y\"})"
      ],
      "execution_count": 8,
      "outputs": []
    },
    {
      "cell_type": "code",
      "metadata": {
        "colab": {
          "base_uri": "https://localhost:8080/"
        },
        "id": "UrVcJgTl5Nhv",
        "outputId": "23ff5330-3ecb-4a89-ec19-21f58ed37a6a"
      },
      "source": [
        "# instantiating an object of Prophet Class (Using the Prophet Forecasting model developed by Facebook)\n",
        "model = Prophet()\n",
        "model.fit(data)"
      ],
      "execution_count": 9,
      "outputs": [
        {
          "output_type": "stream",
          "text": [
            "INFO:numexpr.utils:NumExpr defaulting to 2 threads.\n",
            "INFO:fbprophet:Disabling yearly seasonality. Run prophet with yearly_seasonality=True to override this.\n",
            "INFO:fbprophet:Disabling weekly seasonality. Run prophet with weekly_seasonality=True to override this.\n",
            "INFO:fbprophet:Disabling daily seasonality. Run prophet with daily_seasonality=True to override this.\n"
          ],
          "name": "stderr"
        },
        {
          "output_type": "execute_result",
          "data": {
            "text/plain": [
              "<fbprophet.forecaster.Prophet at 0x7f29d4a3e290>"
            ]
          },
          "metadata": {
            "tags": []
          },
          "execution_count": 9
        }
      ]
    },
    {
      "cell_type": "code",
      "metadata": {
        "colab": {
          "base_uri": "https://localhost:8080/"
        },
        "id": "sBkvSsyj5dnK",
        "outputId": "d40917a0-d0eb-4f05-bcb5-d93ac942d991"
      },
      "source": [
        "# Making prediction on the filtered data\n",
        "test_df = test_df[(test_df[\"Manufacturer\"]==\"X1\") & (test_df[\"Product Size\"]==\"Small\") & (test_df[\"Product Type\"]==\"Powder\") ]\n",
        "test_df[\"Month of Sourcing\"] = test_df[\"Month of Sourcing\"].str.replace('-','-20')\n",
        "test_df[\"Month of Sourcing\"]= test_df.apply(lambda x: parse(x['Month of Sourcing']),axis=1)\n",
        "test_df.reset_index(drop=True,inplace=True)\n",
        "test_df = test_df.rename(columns={\"Month of Sourcing\":\"ds\", \"Sourcing Cost\":\"y\"})\n",
        "\n",
        "pred = model.predict(test_df[[\"ds\"]])\n",
        "pred = pred[\"yhat\"].to_list()\n",
        "\n",
        "test_df[\"yhat\"] = pred\n",
        "\n",
        "print(test_df)"
      ],
      "execution_count": 10,
      "outputs": [
        {
          "output_type": "stream",
          "text": [
            "   ProductType Manufacturer Area Code  ...         ds       y        yhat\n",
            "0         NTM1           X1        A1  ... 2021-06-25  103.68  105.836965\n",
            "1         NTM1           X1        A2  ... 2021-06-25  169.15  105.836965\n",
            "2         NTM1           X1       A28  ... 2021-06-25   47.99  105.836965\n",
            "3         NTM1           X1       A29  ... 2021-06-25   56.52  105.836965\n",
            "4         NTM1           X1        A3  ... 2021-06-25  151.02  105.836965\n",
            "5         NTM1           X1       A34  ... 2021-06-25   95.00  105.836965\n",
            "6         NTM1           X1        A7  ... 2021-06-25  141.32  105.836965\n",
            "7         NTM2           X1       A10  ... 2021-06-25  144.89  105.836965\n",
            "8         NTM2           X1       A11  ... 2021-06-25  143.08  105.836965\n",
            "9         NTM2           X1       A16  ... 2021-06-25  132.60  105.836965\n",
            "10        NTM2           X1       A26  ... 2021-06-25   38.66  105.836965\n",
            "11        NTM2           X1       A28  ... 2021-06-25   97.74  105.836965\n",
            "12        NTM2           X1       A29  ... 2021-06-25   59.82  105.836965\n",
            "13        NTM2           X1        A3  ... 2021-06-25  147.40  105.836965\n",
            "14        NTM2           X1       A32  ... 2021-06-25  102.73  105.836965\n",
            "15        NTM2           X1       A36  ... 2021-06-25   96.39  105.836965\n",
            "16        NTM2           X1       A37  ... 2021-06-25   49.96  105.836965\n",
            "17        NTM2           X1       A38  ... 2021-06-25   57.04  105.836965\n",
            "18        NTM2           X1       A41  ... 2021-06-25  129.20  105.836965\n",
            "19        NTM2           X1        A5  ... 2021-06-25  145.42  105.836965\n",
            "20        NTM2           X1        A7  ... 2021-06-25  139.09  105.836965\n",
            "21        NTM2           X1        A7  ... 2021-06-25  147.59  105.836965\n",
            "22        NTM3           X1       A18  ... 2021-06-25  106.30  105.836965\n",
            "23        NTM3           X1       A24  ... 2021-06-25   87.52  105.836965\n",
            "24        NTM3           X1       A25  ... 2021-06-25   59.05  105.836965\n",
            "25        NTM3           X1       A28  ... 2021-06-25   27.98  105.836965\n",
            "26        NTM3           X1        A8  ... 2021-06-25  111.26  105.836965\n",
            "\n",
            "[27 rows x 9 columns]\n"
          ],
          "name": "stdout"
        }
      ]
    },
    {
      "cell_type": "code",
      "metadata": {
        "colab": {
          "base_uri": "https://localhost:8080/"
        },
        "id": "nxLiyvqE3HsB",
        "outputId": "6b18a3e8-92be-40f3-ea5f-818cb0e787af"
      },
      "source": [
        "# Computing the Absolute Error in model's performance\n",
        "diff_col = test_df[\"y\"] - test_df[\"yhat\"]\n",
        "test_df[\"Absolute Error\"] = diff_col\n",
        "test_df[\"Absolute Error\"]= test_df.apply(lambda x: abs(x[\"Absolute Error\"]),axis=1)\n",
        "print(test_df)"
      ],
      "execution_count": 11,
      "outputs": [
        {
          "output_type": "stream",
          "text": [
            "   ProductType Manufacturer Area Code  ...       y        yhat Absolute Error\n",
            "0         NTM1           X1        A1  ...  103.68  105.836965       2.156965\n",
            "1         NTM1           X1        A2  ...  169.15  105.836965      63.313035\n",
            "2         NTM1           X1       A28  ...   47.99  105.836965      57.846965\n",
            "3         NTM1           X1       A29  ...   56.52  105.836965      49.316965\n",
            "4         NTM1           X1        A3  ...  151.02  105.836965      45.183035\n",
            "5         NTM1           X1       A34  ...   95.00  105.836965      10.836965\n",
            "6         NTM1           X1        A7  ...  141.32  105.836965      35.483035\n",
            "7         NTM2           X1       A10  ...  144.89  105.836965      39.053035\n",
            "8         NTM2           X1       A11  ...  143.08  105.836965      37.243035\n",
            "9         NTM2           X1       A16  ...  132.60  105.836965      26.763035\n",
            "10        NTM2           X1       A26  ...   38.66  105.836965      67.176965\n",
            "11        NTM2           X1       A28  ...   97.74  105.836965       8.096965\n",
            "12        NTM2           X1       A29  ...   59.82  105.836965      46.016965\n",
            "13        NTM2           X1        A3  ...  147.40  105.836965      41.563035\n",
            "14        NTM2           X1       A32  ...  102.73  105.836965       3.106965\n",
            "15        NTM2           X1       A36  ...   96.39  105.836965       9.446965\n",
            "16        NTM2           X1       A37  ...   49.96  105.836965      55.876965\n",
            "17        NTM2           X1       A38  ...   57.04  105.836965      48.796965\n",
            "18        NTM2           X1       A41  ...  129.20  105.836965      23.363035\n",
            "19        NTM2           X1        A5  ...  145.42  105.836965      39.583035\n",
            "20        NTM2           X1        A7  ...  139.09  105.836965      33.253035\n",
            "21        NTM2           X1        A7  ...  147.59  105.836965      41.753035\n",
            "22        NTM3           X1       A18  ...  106.30  105.836965       0.463035\n",
            "23        NTM3           X1       A24  ...   87.52  105.836965      18.316965\n",
            "24        NTM3           X1       A25  ...   59.05  105.836965      46.786965\n",
            "25        NTM3           X1       A28  ...   27.98  105.836965      77.856965\n",
            "26        NTM3           X1        A8  ...  111.26  105.836965       5.423035\n",
            "\n",
            "[27 rows x 10 columns]\n"
          ],
          "name": "stdout"
        }
      ]
    },
    {
      "cell_type": "code",
      "metadata": {
        "colab": {
          "base_uri": "https://localhost:8080/"
        },
        "id": "TFLYeM7A3Lxa",
        "outputId": "36372a21-02e6-4de2-aaa8-c8dc85004822"
      },
      "source": [
        "print(\"The mean absolute error in Sourcing Cost for this model's prediction is  \" + str(test_df[\"Absolute Error\"].mean()))"
      ],
      "execution_count": 12,
      "outputs": [
        {
          "output_type": "stream",
          "text": [
            "The mean absolute error in Sourcing Cost for this model's prediction is  34.59544312966181\n"
          ],
          "name": "stdout"
        }
      ]
    }
  ]
}