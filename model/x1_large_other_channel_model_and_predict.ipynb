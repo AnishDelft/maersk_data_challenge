{
  "nbformat": 4,
  "nbformat_minor": 0,
  "metadata": {
    "colab": {
      "name": "x1_large_other_channel_model_and_predict.ipynb",
      "provenance": []
    },
    "kernelspec": {
      "name": "python3",
      "display_name": "Python 3"
    },
    "language_info": {
      "name": "python"
    }
  },
  "cells": [
    {
      "cell_type": "code",
      "metadata": {
        "id": "gviMzjutuiY_"
      },
      "source": [
        "import pandas as pd # Import Pandas for data manipulation using dataframes\n",
        "import numpy as np # Import Numpy for data statistical analysis \n",
        "import matplotlib.pyplot as plt # Import matplotlib for data visualisation\n",
        "import random\n",
        "import seaborn as sns\n",
        "from fbprophet import Prophet\n",
        "from dateutil.parser import parse"
      ],
      "execution_count": 1,
      "outputs": []
    },
    {
      "cell_type": "code",
      "metadata": {
        "colab": {
          "base_uri": "https://localhost:8080/"
        },
        "id": "xPJKbzupu06E",
        "outputId": "f9da4f87-4a51-4723-eb40-459029e68945"
      },
      "source": [
        "from google.colab import drive\n",
        "drive.mount('/content/drive')"
      ],
      "execution_count": null,
      "outputs": [
        {
          "output_type": "stream",
          "text": [
            "Drive already mounted at /content/drive; to attempt to forcibly remount, call drive.mount(\"/content/drive\", force_remount=True).\n"
          ],
          "name": "stdout"
        }
      ]
    },
    {
      "cell_type": "code",
      "metadata": {
        "id": "pRQMpoEAvBgI"
      },
      "source": [
        "# Loading the test data in memory\n",
        "test_df = pd.read_csv(\"/content/drive/MyDrive/Maersk/test_data_maersk.csv\")"
      ],
      "execution_count": 2,
      "outputs": []
    },
    {
      "cell_type": "markdown",
      "metadata": {
        "id": "N0tsvzb3vDNk"
      },
      "source": [
        "# Time Series Modeling and prediction for data where ***Manufacturer*** = ***X1*** and ***Product Size*** = ***Large*** and ***Sourcing Channel*** != ***WHOLESALE***"
      ]
    },
    {
      "cell_type": "code",
      "metadata": {
        "colab": {
          "base_uri": "https://localhost:8080/",
          "height": 203
        },
        "id": "qatCO6-0vNAK",
        "outputId": "7dab2896-30fb-4d3a-fc71-afec38de2665"
      },
      "source": [
        "# Loading the training data in memory\n",
        "df = pd.read_csv(\"/content/drive/MyDrive/Maersk/x1_large_oth_channel_outlier_removed_df.csv\")\n",
        "df.head()"
      ],
      "execution_count": 3,
      "outputs": [
        {
          "output_type": "execute_result",
          "data": {
            "text/html": [
              "<div>\n",
              "<style scoped>\n",
              "    .dataframe tbody tr th:only-of-type {\n",
              "        vertical-align: middle;\n",
              "    }\n",
              "\n",
              "    .dataframe tbody tr th {\n",
              "        vertical-align: top;\n",
              "    }\n",
              "\n",
              "    .dataframe thead th {\n",
              "        text-align: right;\n",
              "    }\n",
              "</style>\n",
              "<table border=\"1\" class=\"dataframe\">\n",
              "  <thead>\n",
              "    <tr style=\"text-align: right;\">\n",
              "      <th></th>\n",
              "      <th>Month of Sourcing</th>\n",
              "      <th>Sourcing Cost</th>\n",
              "    </tr>\n",
              "  </thead>\n",
              "  <tbody>\n",
              "    <tr>\n",
              "      <th>0</th>\n",
              "      <td>Oct-20</td>\n",
              "      <td>134.28</td>\n",
              "    </tr>\n",
              "    <tr>\n",
              "      <th>1</th>\n",
              "      <td>Oct-20</td>\n",
              "      <td>133.45</td>\n",
              "    </tr>\n",
              "    <tr>\n",
              "      <th>2</th>\n",
              "      <td>Oct-20</td>\n",
              "      <td>134.28</td>\n",
              "    </tr>\n",
              "    <tr>\n",
              "      <th>3</th>\n",
              "      <td>Oct-20</td>\n",
              "      <td>133.45</td>\n",
              "    </tr>\n",
              "    <tr>\n",
              "      <th>4</th>\n",
              "      <td>Oct-20</td>\n",
              "      <td>133.45</td>\n",
              "    </tr>\n",
              "  </tbody>\n",
              "</table>\n",
              "</div>"
            ],
            "text/plain": [
              "  Month of Sourcing  Sourcing Cost\n",
              "0            Oct-20         134.28\n",
              "1            Oct-20         133.45\n",
              "2            Oct-20         134.28\n",
              "3            Oct-20         133.45\n",
              "4            Oct-20         133.45"
            ]
          },
          "metadata": {
            "tags": []
          },
          "execution_count": 3
        }
      ]
    },
    {
      "cell_type": "code",
      "metadata": {
        "colab": {
          "base_uri": "https://localhost:8080/",
          "height": 203
        },
        "id": "hfVftjDdvcFH",
        "outputId": "423d112a-0dd8-4cf1-ff57-3d444dbe303d"
      },
      "source": [
        "# Converting the Month of Sourcing data from strinf to datetime format for training\n",
        "df[\"Month of Sourcing\"] = df[\"Month of Sourcing\"].str.replace('-','-20')\n",
        "df[\"Month of Sourcing\"]= df.apply(lambda x: parse(x['Month of Sourcing']),axis=1)\n",
        "df.head()"
      ],
      "execution_count": 4,
      "outputs": [
        {
          "output_type": "execute_result",
          "data": {
            "text/html": [
              "<div>\n",
              "<style scoped>\n",
              "    .dataframe tbody tr th:only-of-type {\n",
              "        vertical-align: middle;\n",
              "    }\n",
              "\n",
              "    .dataframe tbody tr th {\n",
              "        vertical-align: top;\n",
              "    }\n",
              "\n",
              "    .dataframe thead th {\n",
              "        text-align: right;\n",
              "    }\n",
              "</style>\n",
              "<table border=\"1\" class=\"dataframe\">\n",
              "  <thead>\n",
              "    <tr style=\"text-align: right;\">\n",
              "      <th></th>\n",
              "      <th>Month of Sourcing</th>\n",
              "      <th>Sourcing Cost</th>\n",
              "    </tr>\n",
              "  </thead>\n",
              "  <tbody>\n",
              "    <tr>\n",
              "      <th>0</th>\n",
              "      <td>2020-10-25</td>\n",
              "      <td>134.28</td>\n",
              "    </tr>\n",
              "    <tr>\n",
              "      <th>1</th>\n",
              "      <td>2020-10-25</td>\n",
              "      <td>133.45</td>\n",
              "    </tr>\n",
              "    <tr>\n",
              "      <th>2</th>\n",
              "      <td>2020-10-25</td>\n",
              "      <td>134.28</td>\n",
              "    </tr>\n",
              "    <tr>\n",
              "      <th>3</th>\n",
              "      <td>2020-10-25</td>\n",
              "      <td>133.45</td>\n",
              "    </tr>\n",
              "    <tr>\n",
              "      <th>4</th>\n",
              "      <td>2020-10-25</td>\n",
              "      <td>133.45</td>\n",
              "    </tr>\n",
              "  </tbody>\n",
              "</table>\n",
              "</div>"
            ],
            "text/plain": [
              "  Month of Sourcing  Sourcing Cost\n",
              "0        2020-10-25         134.28\n",
              "1        2020-10-25         133.45\n",
              "2        2020-10-25         134.28\n",
              "3        2020-10-25         133.45\n",
              "4        2020-10-25         133.45"
            ]
          },
          "metadata": {
            "tags": []
          },
          "execution_count": 4
        }
      ]
    },
    {
      "cell_type": "code",
      "metadata": {
        "colab": {
          "base_uri": "https://localhost:8080/",
          "height": 417
        },
        "id": "J2JlQgcewhp5",
        "outputId": "829a93ba-ce7c-4105-aacd-cfdcacd0afbf"
      },
      "source": [
        "# Ordering the training data by Month of Sourcing (oldest to newest)\n",
        "data = df\n",
        "data.sort_values(by=[\"Month of Sourcing\"])"
      ],
      "execution_count": 5,
      "outputs": [
        {
          "output_type": "execute_result",
          "data": {
            "text/html": [
              "<div>\n",
              "<style scoped>\n",
              "    .dataframe tbody tr th:only-of-type {\n",
              "        vertical-align: middle;\n",
              "    }\n",
              "\n",
              "    .dataframe tbody tr th {\n",
              "        vertical-align: top;\n",
              "    }\n",
              "\n",
              "    .dataframe thead th {\n",
              "        text-align: right;\n",
              "    }\n",
              "</style>\n",
              "<table border=\"1\" class=\"dataframe\">\n",
              "  <thead>\n",
              "    <tr style=\"text-align: right;\">\n",
              "      <th></th>\n",
              "      <th>Month of Sourcing</th>\n",
              "      <th>Sourcing Cost</th>\n",
              "    </tr>\n",
              "  </thead>\n",
              "  <tbody>\n",
              "    <tr>\n",
              "      <th>143408</th>\n",
              "      <td>2020-07-25</td>\n",
              "      <td>136.26</td>\n",
              "    </tr>\n",
              "    <tr>\n",
              "      <th>140948</th>\n",
              "      <td>2020-07-25</td>\n",
              "      <td>136.47</td>\n",
              "    </tr>\n",
              "    <tr>\n",
              "      <th>140947</th>\n",
              "      <td>2020-07-25</td>\n",
              "      <td>132.00</td>\n",
              "    </tr>\n",
              "    <tr>\n",
              "      <th>140946</th>\n",
              "      <td>2020-07-25</td>\n",
              "      <td>137.64</td>\n",
              "    </tr>\n",
              "    <tr>\n",
              "      <th>140945</th>\n",
              "      <td>2020-07-25</td>\n",
              "      <td>136.57</td>\n",
              "    </tr>\n",
              "    <tr>\n",
              "      <th>...</th>\n",
              "      <td>...</td>\n",
              "      <td>...</td>\n",
              "    </tr>\n",
              "    <tr>\n",
              "      <th>153725</th>\n",
              "      <td>2021-05-25</td>\n",
              "      <td>156.73</td>\n",
              "    </tr>\n",
              "    <tr>\n",
              "      <th>153726</th>\n",
              "      <td>2021-05-25</td>\n",
              "      <td>154.24</td>\n",
              "    </tr>\n",
              "    <tr>\n",
              "      <th>153727</th>\n",
              "      <td>2021-05-25</td>\n",
              "      <td>157.92</td>\n",
              "    </tr>\n",
              "    <tr>\n",
              "      <th>153713</th>\n",
              "      <td>2021-05-25</td>\n",
              "      <td>158.53</td>\n",
              "    </tr>\n",
              "    <tr>\n",
              "      <th>165236</th>\n",
              "      <td>2021-05-25</td>\n",
              "      <td>133.30</td>\n",
              "    </tr>\n",
              "  </tbody>\n",
              "</table>\n",
              "<p>165237 rows × 2 columns</p>\n",
              "</div>"
            ],
            "text/plain": [
              "       Month of Sourcing  Sourcing Cost\n",
              "143408        2020-07-25         136.26\n",
              "140948        2020-07-25         136.47\n",
              "140947        2020-07-25         132.00\n",
              "140946        2020-07-25         137.64\n",
              "140945        2020-07-25         136.57\n",
              "...                  ...            ...\n",
              "153725        2021-05-25         156.73\n",
              "153726        2021-05-25         154.24\n",
              "153727        2021-05-25         157.92\n",
              "153713        2021-05-25         158.53\n",
              "165236        2021-05-25         133.30\n",
              "\n",
              "[165237 rows x 2 columns]"
            ]
          },
          "metadata": {
            "tags": []
          },
          "execution_count": 5
        }
      ]
    },
    {
      "cell_type": "code",
      "metadata": {
        "colab": {
          "base_uri": "https://localhost:8080/",
          "height": 613
        },
        "id": "A9o5nkiHwlsf",
        "outputId": "a90daae7-fd60-43f9-f942-9eed889093c6"
      },
      "source": [
        "# Plottting the training data to visualize the scatter plot of the grouped time-series\n",
        "plt.figure(figsize=(10,10))\n",
        "plt.scatter(data[\"Month of Sourcing\"], data[\"Sourcing Cost\"])\n",
        "plt.ylim((0,500))"
      ],
      "execution_count": 6,
      "outputs": [
        {
          "output_type": "execute_result",
          "data": {
            "text/plain": [
              "(0.0, 500.0)"
            ]
          },
          "metadata": {
            "tags": []
          },
          "execution_count": 6
        },
        {
          "output_type": "display_data",
          "data": {
            "image/png": "[encoded data removed]",
            "text/plain": [
              "<Figure size 720x720 with 1 Axes>"
            ]
          },
          "metadata": {
            "tags": [],
            "needs_background": "light"
          }
        }
      ]
    },
    {
      "cell_type": "code",
      "metadata": {
        "id": "Idponv2jwp08"
      },
      "source": [
        "# renaming the columns to symbolize the timestamp and the target\n",
        "data = data.rename(columns={\"Month of Sourcing\":\"ds\", \"Sourcing Cost\":\"y\"})"
      ],
      "execution_count": 7,
      "outputs": []
    },
    {
      "cell_type": "code",
      "metadata": {
        "colab": {
          "base_uri": "https://localhost:8080/"
        },
        "id": "_IGWGGUJwuEv",
        "outputId": "63c0e334-52d5-4664-9a7d-712a2635c37b"
      },
      "source": [
        "# instantiating an object of Prophet Class (Using the Prophet Forecasting model developed by Facebook)\n",
        "model = Prophet()\n",
        "model.fit(data)"
      ],
      "execution_count": 8,
      "outputs": [
        {
          "output_type": "stream",
          "text": [
            "INFO:numexpr.utils:NumExpr defaulting to 2 threads.\n",
            "INFO:fbprophet:Disabling yearly seasonality. Run prophet with yearly_seasonality=True to override this.\n",
            "INFO:fbprophet:Disabling weekly seasonality. Run prophet with weekly_seasonality=True to override this.\n",
            "INFO:fbprophet:Disabling daily seasonality. Run prophet with daily_seasonality=True to override this.\n"
          ],
          "name": "stderr"
        },
        {
          "output_type": "execute_result",
          "data": {
            "text/plain": [
              "<fbprophet.forecaster.Prophet at 0x7fc36afacf50>"
            ]
          },
          "metadata": {
            "tags": []
          },
          "execution_count": 8
        }
      ]
    },
    {
      "cell_type": "code",
      "metadata": {
        "colab": {
          "base_uri": "https://localhost:8080/"
        },
        "id": "oNYuGhjRxPvz",
        "outputId": "e0b87eab-9d89-4397-8af2-c94ec26d0aee"
      },
      "source": [
        "# Making prediction on the filtered data\n",
        "test_df = test_df[(test_df[\"Manufacturer\"]==\"X1\") & (test_df[\"Product Size\"]==\"Large\") & (test_df[\"Sourcing Channel\"]!=\"WHOLESALE\") ]\n",
        "test_df[\"Month of Sourcing\"] = test_df[\"Month of Sourcing\"].str.replace('-','-20')\n",
        "test_df[\"Month of Sourcing\"]= test_df.apply(lambda x: parse(x['Month of Sourcing']),axis=1)\n",
        "test_df.reset_index(drop=True,inplace=True)\n",
        "test_df = test_df.rename(columns={\"Month of Sourcing\":\"ds\", \"Sourcing Cost\":\"y\"})\n",
        "\n",
        "pred = model.predict(test_df[[\"ds\"]])\n",
        "pred = pred[\"yhat\"].to_list()\n",
        "\n",
        "test_df[\"yhat\"] = pred\n",
        "\n",
        "print(test_df)"
      ],
      "execution_count": 9,
      "outputs": [
        {
          "output_type": "stream",
          "text": [
            "   ProductType Manufacturer Area Code  ...         ds       y        yhat\n",
            "0         NTM1           X1       A10  ... 2021-06-25  155.75  143.606489\n",
            "1         NTM1           X1       A10  ... 2021-06-25  143.02  143.606489\n",
            "2         NTM1           X1       A11  ... 2021-06-25  139.39  143.606489\n",
            "3         NTM1           X1        A2  ... 2021-06-25  169.42  143.606489\n",
            "4         NTM1           X1        A3  ... 2021-06-25  125.51  143.606489\n",
            "5         NTM1           X1        A3  ... 2021-06-25  157.27  143.606489\n",
            "6         NTM1           X1       A33  ... 2021-06-25  133.83  143.606489\n",
            "7         NTM1           X1        A4  ... 2021-06-25  140.40  143.606489\n",
            "8         NTM1           X1        A6  ... 2021-06-25  135.40  143.606489\n",
            "9         NTM1           X1        A7  ... 2021-06-25  116.25  143.606489\n",
            "10        NTM1           X1        A7  ... 2021-06-25  171.26  143.606489\n",
            "11        NTM1           X1        A7  ... 2021-06-25  141.14  143.606489\n",
            "12        NTM1           X1        A8  ... 2021-06-25  145.84  143.606489\n",
            "13        NTM1           X1        A8  ... 2021-06-25  147.54  143.606489\n",
            "14        NTM1           X1        A9  ... 2021-06-25  140.34  143.606489\n",
            "15        NTM1           X1        A9  ... 2021-06-25  144.45  143.606489\n",
            "16        NTM2           X1       A10  ... 2021-06-25  155.08  143.606489\n",
            "17        NTM2           X1       A11  ... 2021-06-25  140.03  143.606489\n",
            "18        NTM2           X1       A17  ... 2021-06-25   60.53  143.606489\n",
            "19        NTM2           X1       A19  ... 2021-06-25   59.75  143.606489\n",
            "20        NTM2           X1        A2  ... 2021-06-25  170.71  143.606489\n",
            "21        NTM2           X1        A2  ... 2021-06-25  171.75  143.606489\n",
            "22        NTM2           X1       A23  ... 2021-06-25  167.43  143.606489\n",
            "23        NTM2           X1       A28  ... 2021-06-25  223.78  143.606489\n",
            "24        NTM2           X1       A28  ... 2021-06-25  189.59  143.606489\n",
            "25        NTM2           X1       A29  ... 2021-06-25   63.12  143.606489\n",
            "26        NTM2           X1       A32  ... 2021-06-25   71.39  143.606489\n",
            "27        NTM2           X1       A37  ... 2021-06-25   24.05  143.606489\n",
            "28        NTM2           X1       A38  ... 2021-06-25   63.53  143.606489\n",
            "29        NTM2           X1        A4  ... 2021-06-25  140.31  143.606489\n",
            "30        NTM2           X1        A5  ... 2021-06-25  144.99  143.606489\n",
            "31        NTM2           X1        A6  ... 2021-06-25  140.55  143.606489\n",
            "32        NTM2           X1        A6  ... 2021-06-25  139.91  143.606489\n",
            "33        NTM2           X1        A7  ... 2021-06-25  133.44  143.606489\n",
            "34        NTM2           X1        A7  ... 2021-06-25  149.23  143.606489\n",
            "35        NTM2           X1        A8  ... 2021-06-25  151.75  143.606489\n",
            "36        NTM2           X1        A9  ... 2021-06-25  143.34  143.606489\n",
            "37        NTM3           X1       A10  ... 2021-06-25  126.28  143.606489\n",
            "38        NTM3           X1       A11  ... 2021-06-25  112.10  143.606489\n",
            "39        NTM3           X1       A13  ... 2021-06-25   68.12  143.606489\n",
            "40        NTM3           X1       A14  ... 2021-06-25   72.82  143.606489\n",
            "41        NTM3           X1       A15  ... 2021-06-25   74.59  143.606489\n",
            "42        NTM3           X1       A18  ... 2021-06-25  157.96  143.606489\n",
            "43        NTM3           X1       A25  ... 2021-06-25  123.40  143.606489\n",
            "44        NTM3           X1        A8  ... 2021-06-25  114.57  143.606489\n",
            "\n",
            "[45 rows x 9 columns]\n"
          ],
          "name": "stdout"
        }
      ]
    },
    {
      "cell_type": "code",
      "metadata": {
        "colab": {
          "base_uri": "https://localhost:8080/"
        },
        "id": "qndW8WOroTgC",
        "outputId": "aa75db21-dc79-455a-ff39-7d217e122645"
      },
      "source": [
        "# Computing the Absolute Error in model's performance\n",
        "diff_col = test_df[\"y\"] - test_df[\"yhat\"]\n",
        "test_df[\"Absolute Error\"] = diff_col\n",
        "test_df[\"Absolute Error\"]= test_df.apply(lambda x: abs(x[\"Absolute Error\"]),axis=1)\n",
        "print(test_df)"
      ],
      "execution_count": 10,
      "outputs": [
        {
          "output_type": "stream",
          "text": [
            "   ProductType Manufacturer Area Code  ...       y        yhat Absolute Error\n",
            "0         NTM1           X1       A10  ...  155.75  143.606489      12.143511\n",
            "1         NTM1           X1       A10  ...  143.02  143.606489       0.586489\n",
            "2         NTM1           X1       A11  ...  139.39  143.606489       4.216489\n",
            "3         NTM1           X1        A2  ...  169.42  143.606489      25.813511\n",
            "4         NTM1           X1        A3  ...  125.51  143.606489      18.096489\n",
            "5         NTM1           X1        A3  ...  157.27  143.606489      13.663511\n",
            "6         NTM1           X1       A33  ...  133.83  143.606489       9.776489\n",
            "7         NTM1           X1        A4  ...  140.40  143.606489       3.206489\n",
            "8         NTM1           X1        A6  ...  135.40  143.606489       8.206489\n",
            "9         NTM1           X1        A7  ...  116.25  143.606489      27.356489\n",
            "10        NTM1           X1        A7  ...  171.26  143.606489      27.653511\n",
            "11        NTM1           X1        A7  ...  141.14  143.606489       2.466489\n",
            "12        NTM1           X1        A8  ...  145.84  143.606489       2.233511\n",
            "13        NTM1           X1        A8  ...  147.54  143.606489       3.933511\n",
            "14        NTM1           X1        A9  ...  140.34  143.606489       3.266489\n",
            "15        NTM1           X1        A9  ...  144.45  143.606489       0.843511\n",
            "16        NTM2           X1       A10  ...  155.08  143.606489      11.473511\n",
            "17        NTM2           X1       A11  ...  140.03  143.606489       3.576489\n",
            "18        NTM2           X1       A17  ...   60.53  143.606489      83.076489\n",
            "19        NTM2           X1       A19  ...   59.75  143.606489      83.856489\n",
            "20        NTM2           X1        A2  ...  170.71  143.606489      27.103511\n",
            "21        NTM2           X1        A2  ...  171.75  143.606489      28.143511\n",
            "22        NTM2           X1       A23  ...  167.43  143.606489      23.823511\n",
            "23        NTM2           X1       A28  ...  223.78  143.606489      80.173511\n",
            "24        NTM2           X1       A28  ...  189.59  143.606489      45.983511\n",
            "25        NTM2           X1       A29  ...   63.12  143.606489      80.486489\n",
            "26        NTM2           X1       A32  ...   71.39  143.606489      72.216489\n",
            "27        NTM2           X1       A37  ...   24.05  143.606489     119.556489\n",
            "28        NTM2           X1       A38  ...   63.53  143.606489      80.076489\n",
            "29        NTM2           X1        A4  ...  140.31  143.606489       3.296489\n",
            "30        NTM2           X1        A5  ...  144.99  143.606489       1.383511\n",
            "31        NTM2           X1        A6  ...  140.55  143.606489       3.056489\n",
            "32        NTM2           X1        A6  ...  139.91  143.606489       3.696489\n",
            "33        NTM2           X1        A7  ...  133.44  143.606489      10.166489\n",
            "34        NTM2           X1        A7  ...  149.23  143.606489       5.623511\n",
            "35        NTM2           X1        A8  ...  151.75  143.606489       8.143511\n",
            "36        NTM2           X1        A9  ...  143.34  143.606489       0.266489\n",
            "37        NTM3           X1       A10  ...  126.28  143.606489      17.326489\n",
            "38        NTM3           X1       A11  ...  112.10  143.606489      31.506489\n",
            "39        NTM3           X1       A13  ...   68.12  143.606489      75.486489\n",
            "40        NTM3           X1       A14  ...   72.82  143.606489      70.786489\n",
            "41        NTM3           X1       A15  ...   74.59  143.606489      69.016489\n",
            "42        NTM3           X1       A18  ...  157.96  143.606489      14.353511\n",
            "43        NTM3           X1       A25  ...  123.40  143.606489      20.206489\n",
            "44        NTM3           X1        A8  ...  114.57  143.606489      29.036489\n",
            "\n",
            "[45 rows x 10 columns]\n"
          ],
          "name": "stdout"
        }
      ]
    },
    {
      "cell_type": "code",
      "metadata": {
        "colab": {
          "base_uri": "https://localhost:8080/"
        },
        "id": "pdXlb3Txoa2n",
        "outputId": "011562e5-23b5-4899-a52e-c4c07258a55f"
      },
      "source": [
        "print(\"The mean absolute error in Sourcing Cost for this model's prediction is  \" + str(test_df[\"Absolute Error\"].mean()))"
      ],
      "execution_count": 11,
      "outputs": [
        {
          "output_type": "stream",
          "text": [
            "The mean absolute error in Sourcing Cost for this model's prediction is  28.141363870672265\n"
          ],
          "name": "stdout"
        }
      ]
    }
  ]
}