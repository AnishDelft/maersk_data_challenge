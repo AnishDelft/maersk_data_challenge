{
  "nbformat": 4,
  "nbformat_minor": 0,
  "metadata": {
    "colab": {
      "name": "x1_small_liquid_model_and_predict.ipynb",
      "provenance": [],
      "collapsed_sections": []
    },
    "kernelspec": {
      "name": "python3",
      "display_name": "Python 3"
    },
    "language_info": {
      "name": "python"
    }
  },
  "cells": [
    {
      "cell_type": "code",
      "metadata": {
        "id": "Ti_ODQXn125b"
      },
      "source": [
        "import pandas as pd # Import Pandas for data manipulation using dataframes\n",
        "import numpy as np # Import Numpy for data statistical analysis \n",
        "import matplotlib.pyplot as plt # Import matplotlib for data visualisation\n",
        "import random\n",
        "import seaborn as sns\n",
        "from fbprophet import Prophet\n",
        "from dateutil.parser import parse"
      ],
      "execution_count": 1,
      "outputs": []
    },
    {
      "cell_type": "code",
      "metadata": {
        "colab": {
          "base_uri": "https://localhost:8080/"
        },
        "id": "J-ymG5n92DLv",
        "outputId": "02bb85db-a65b-40d7-b12b-5f4cda910635"
      },
      "source": [
        "from google.colab import drive\n",
        "drive.mount('/content/drive')"
      ],
      "execution_count": 3,
      "outputs": [
        {
          "output_type": "stream",
          "text": [
            "Mounted at /content/drive\n"
          ],
          "name": "stdout"
        }
      ]
    },
    {
      "cell_type": "code",
      "metadata": {
        "id": "09xaBNIq2KEJ"
      },
      "source": [
        "# Loading the test data in memory\n",
        "test_df = pd.read_csv(\"/content/drive/MyDrive/Maersk/test_data_maersk.csv\")"
      ],
      "execution_count": 16,
      "outputs": []
    },
    {
      "cell_type": "markdown",
      "metadata": {
        "id": "7QiHflky2eNI"
      },
      "source": [
        "# Time Series Modeling and prediction for data where ***Manufacturer*** = ***X1*** and ***Product Size*** = ***Small*** and ***Product Type*** = ***Liquid***"
      ]
    },
    {
      "cell_type": "code",
      "metadata": {
        "colab": {
          "base_uri": "https://localhost:8080/",
          "height": 203
        },
        "id": "Z5A34UKu2pJF",
        "outputId": "194ce39e-c492-481a-c6ed-7b4e9c69694f"
      },
      "source": [
        "# Loading the training data in memory\n",
        "df = pd.read_csv(\"/content/drive/MyDrive/Maersk/x1_small_liquid_outlier_removed_df.csv\")\n",
        "df.head()"
      ],
      "execution_count": 9,
      "outputs": [
        {
          "output_type": "execute_result",
          "data": {
            "text/html": [
              "<div>\n",
              "<style scoped>\n",
              "    .dataframe tbody tr th:only-of-type {\n",
              "        vertical-align: middle;\n",
              "    }\n",
              "\n",
              "    .dataframe tbody tr th {\n",
              "        vertical-align: top;\n",
              "    }\n",
              "\n",
              "    .dataframe thead th {\n",
              "        text-align: right;\n",
              "    }\n",
              "</style>\n",
              "<table border=\"1\" class=\"dataframe\">\n",
              "  <thead>\n",
              "    <tr style=\"text-align: right;\">\n",
              "      <th></th>\n",
              "      <th>Month of Sourcing</th>\n",
              "      <th>Sourcing Cost</th>\n",
              "    </tr>\n",
              "  </thead>\n",
              "  <tbody>\n",
              "    <tr>\n",
              "      <th>0</th>\n",
              "      <td>Oct-20</td>\n",
              "      <td>66.15</td>\n",
              "    </tr>\n",
              "    <tr>\n",
              "      <th>1</th>\n",
              "      <td>Oct-20</td>\n",
              "      <td>66.15</td>\n",
              "    </tr>\n",
              "    <tr>\n",
              "      <th>2</th>\n",
              "      <td>Oct-20</td>\n",
              "      <td>66.15</td>\n",
              "    </tr>\n",
              "    <tr>\n",
              "      <th>3</th>\n",
              "      <td>Oct-20</td>\n",
              "      <td>66.15</td>\n",
              "    </tr>\n",
              "    <tr>\n",
              "      <th>4</th>\n",
              "      <td>Oct-20</td>\n",
              "      <td>66.15</td>\n",
              "    </tr>\n",
              "  </tbody>\n",
              "</table>\n",
              "</div>"
            ],
            "text/plain": [
              "  Month of Sourcing  Sourcing Cost\n",
              "0            Oct-20          66.15\n",
              "1            Oct-20          66.15\n",
              "2            Oct-20          66.15\n",
              "3            Oct-20          66.15\n",
              "4            Oct-20          66.15"
            ]
          },
          "metadata": {
            "tags": []
          },
          "execution_count": 9
        }
      ]
    },
    {
      "cell_type": "code",
      "metadata": {
        "colab": {
          "base_uri": "https://localhost:8080/",
          "height": 203
        },
        "id": "o3zDYPRi2zlI",
        "outputId": "15880575-c6e0-47d6-f586-e4e3600d72fa"
      },
      "source": [
        "# Converting the Month of Sourcing data from strinf to datetime format for training\n",
        "df[\"Month of Sourcing\"] = df[\"Month of Sourcing\"].str.replace('-','-20')\n",
        "df[\"Month of Sourcing\"]= df.apply(lambda x: parse(x['Month of Sourcing']),axis=1)\n",
        "df.head()"
      ],
      "execution_count": 10,
      "outputs": [
        {
          "output_type": "execute_result",
          "data": {
            "text/html": [
              "<div>\n",
              "<style scoped>\n",
              "    .dataframe tbody tr th:only-of-type {\n",
              "        vertical-align: middle;\n",
              "    }\n",
              "\n",
              "    .dataframe tbody tr th {\n",
              "        vertical-align: top;\n",
              "    }\n",
              "\n",
              "    .dataframe thead th {\n",
              "        text-align: right;\n",
              "    }\n",
              "</style>\n",
              "<table border=\"1\" class=\"dataframe\">\n",
              "  <thead>\n",
              "    <tr style=\"text-align: right;\">\n",
              "      <th></th>\n",
              "      <th>Month of Sourcing</th>\n",
              "      <th>Sourcing Cost</th>\n",
              "    </tr>\n",
              "  </thead>\n",
              "  <tbody>\n",
              "    <tr>\n",
              "      <th>0</th>\n",
              "      <td>2020-10-25</td>\n",
              "      <td>66.15</td>\n",
              "    </tr>\n",
              "    <tr>\n",
              "      <th>1</th>\n",
              "      <td>2020-10-25</td>\n",
              "      <td>66.15</td>\n",
              "    </tr>\n",
              "    <tr>\n",
              "      <th>2</th>\n",
              "      <td>2020-10-25</td>\n",
              "      <td>66.15</td>\n",
              "    </tr>\n",
              "    <tr>\n",
              "      <th>3</th>\n",
              "      <td>2020-10-25</td>\n",
              "      <td>66.15</td>\n",
              "    </tr>\n",
              "    <tr>\n",
              "      <th>4</th>\n",
              "      <td>2020-10-25</td>\n",
              "      <td>66.15</td>\n",
              "    </tr>\n",
              "  </tbody>\n",
              "</table>\n",
              "</div>"
            ],
            "text/plain": [
              "  Month of Sourcing  Sourcing Cost\n",
              "0        2020-10-25          66.15\n",
              "1        2020-10-25          66.15\n",
              "2        2020-10-25          66.15\n",
              "3        2020-10-25          66.15\n",
              "4        2020-10-25          66.15"
            ]
          },
          "metadata": {
            "tags": []
          },
          "execution_count": 10
        }
      ]
    },
    {
      "cell_type": "code",
      "metadata": {
        "colab": {
          "base_uri": "https://localhost:8080/",
          "height": 417
        },
        "id": "f4m7V38024dw",
        "outputId": "0dd194b8-c082-4b24-92e5-6ad3505fd462"
      },
      "source": [
        "# Ordering the training data by Month of Sourcing (oldest to newest)\n",
        "data = df\n",
        "data.sort_values(by=[\"Month of Sourcing\"])"
      ],
      "execution_count": 11,
      "outputs": [
        {
          "output_type": "execute_result",
          "data": {
            "text/html": [
              "<div>\n",
              "<style scoped>\n",
              "    .dataframe tbody tr th:only-of-type {\n",
              "        vertical-align: middle;\n",
              "    }\n",
              "\n",
              "    .dataframe tbody tr th {\n",
              "        vertical-align: top;\n",
              "    }\n",
              "\n",
              "    .dataframe thead th {\n",
              "        text-align: right;\n",
              "    }\n",
              "</style>\n",
              "<table border=\"1\" class=\"dataframe\">\n",
              "  <thead>\n",
              "    <tr style=\"text-align: right;\">\n",
              "      <th></th>\n",
              "      <th>Month of Sourcing</th>\n",
              "      <th>Sourcing Cost</th>\n",
              "    </tr>\n",
              "  </thead>\n",
              "  <tbody>\n",
              "    <tr>\n",
              "      <th>2982</th>\n",
              "      <td>2020-07-25</td>\n",
              "      <td>62.99</td>\n",
              "    </tr>\n",
              "    <tr>\n",
              "      <th>2701</th>\n",
              "      <td>2020-07-25</td>\n",
              "      <td>61.70</td>\n",
              "    </tr>\n",
              "    <tr>\n",
              "      <th>2702</th>\n",
              "      <td>2020-07-25</td>\n",
              "      <td>56.56</td>\n",
              "    </tr>\n",
              "    <tr>\n",
              "      <th>2703</th>\n",
              "      <td>2020-07-25</td>\n",
              "      <td>62.88</td>\n",
              "    </tr>\n",
              "    <tr>\n",
              "      <th>2704</th>\n",
              "      <td>2020-07-25</td>\n",
              "      <td>62.98</td>\n",
              "    </tr>\n",
              "    <tr>\n",
              "      <th>...</th>\n",
              "      <td>...</td>\n",
              "      <td>...</td>\n",
              "    </tr>\n",
              "    <tr>\n",
              "      <th>4387</th>\n",
              "      <td>2021-05-25</td>\n",
              "      <td>66.61</td>\n",
              "    </tr>\n",
              "    <tr>\n",
              "      <th>4386</th>\n",
              "      <td>2021-05-25</td>\n",
              "      <td>67.00</td>\n",
              "    </tr>\n",
              "    <tr>\n",
              "      <th>4385</th>\n",
              "      <td>2021-05-25</td>\n",
              "      <td>66.58</td>\n",
              "    </tr>\n",
              "    <tr>\n",
              "      <th>4405</th>\n",
              "      <td>2021-05-25</td>\n",
              "      <td>66.82</td>\n",
              "    </tr>\n",
              "    <tr>\n",
              "      <th>4108</th>\n",
              "      <td>2021-05-25</td>\n",
              "      <td>50.16</td>\n",
              "    </tr>\n",
              "  </tbody>\n",
              "</table>\n",
              "<p>12894 rows × 2 columns</p>\n",
              "</div>"
            ],
            "text/plain": [
              "     Month of Sourcing  Sourcing Cost\n",
              "2982        2020-07-25          62.99\n",
              "2701        2020-07-25          61.70\n",
              "2702        2020-07-25          56.56\n",
              "2703        2020-07-25          62.88\n",
              "2704        2020-07-25          62.98\n",
              "...                ...            ...\n",
              "4387        2021-05-25          66.61\n",
              "4386        2021-05-25          67.00\n",
              "4385        2021-05-25          66.58\n",
              "4405        2021-05-25          66.82\n",
              "4108        2021-05-25          50.16\n",
              "\n",
              "[12894 rows x 2 columns]"
            ]
          },
          "metadata": {
            "tags": []
          },
          "execution_count": 11
        }
      ]
    },
    {
      "cell_type": "code",
      "metadata": {
        "colab": {
          "base_uri": "https://localhost:8080/",
          "height": 613
        },
        "id": "GF4bLSmR2_ga",
        "outputId": "5e54eabf-b984-441a-9866-7699e281ff81"
      },
      "source": [
        "# Plottting the training data to visualize the scatter plot of the grouped time-series\n",
        "plt.figure(figsize=(10,10))\n",
        "plt.scatter(data[\"Month of Sourcing\"], data[\"Sourcing Cost\"])\n",
        "plt.ylim((0,500))"
      ],
      "execution_count": 12,
      "outputs": [
        {
          "output_type": "execute_result",
          "data": {
            "text/plain": [
              "(0.0, 500.0)"
            ]
          },
          "metadata": {
            "tags": []
          },
          "execution_count": 12
        },
        {
          "output_type": "display_data",
          "data": {
            "image/png": "[encoded data removed]",
            "text/plain": [
              "<Figure size 720x720 with 1 Axes>"
            ]
          },
          "metadata": {
            "tags": [],
            "needs_background": "light"
          }
        }
      ]
    },
    {
      "cell_type": "code",
      "metadata": {
        "id": "WoRElFH93DD4"
      },
      "source": [
        "# Making prediction on the filtered data\n",
        "data = data.rename(columns={\"Month of Sourcing\":\"ds\", \"Sourcing Cost\":\"y\"})"
      ],
      "execution_count": 13,
      "outputs": []
    },
    {
      "cell_type": "code",
      "metadata": {
        "colab": {
          "base_uri": "https://localhost:8080/"
        },
        "id": "csSjw8wg3Hvx",
        "outputId": "91805c7a-69c4-4d55-c364-260f53c9be9a"
      },
      "source": [
        "# Computing the Absolute Error in model's performance\n",
        "model = Prophet()\n",
        "model.fit(data)"
      ],
      "execution_count": 14,
      "outputs": [
        {
          "output_type": "stream",
          "text": [
            "INFO:numexpr.utils:NumExpr defaulting to 2 threads.\n",
            "INFO:fbprophet:Disabling yearly seasonality. Run prophet with yearly_seasonality=True to override this.\n",
            "INFO:fbprophet:Disabling weekly seasonality. Run prophet with weekly_seasonality=True to override this.\n",
            "INFO:fbprophet:Disabling daily seasonality. Run prophet with daily_seasonality=True to override this.\n"
          ],
          "name": "stderr"
        },
        {
          "output_type": "execute_result",
          "data": {
            "text/plain": [
              "<fbprophet.forecaster.Prophet at 0x7f0514da1ed0>"
            ]
          },
          "metadata": {
            "tags": []
          },
          "execution_count": 14
        }
      ]
    },
    {
      "cell_type": "code",
      "metadata": {
        "colab": {
          "base_uri": "https://localhost:8080/"
        },
        "id": "xZBeRJ3S3LRy",
        "outputId": "fab65668-b4eb-4764-c8d7-293fdc518a79"
      },
      "source": [
        "# Making prediction on the filtered data\n",
        "test_df = test_df[(test_df[\"Manufacturer\"]==\"X1\") & (test_df[\"Product Size\"]==\"Small\") & (test_df[\"Product Type\"]==\"Liquid\") ]\n",
        "test_df[\"Month of Sourcing\"] = test_df[\"Month of Sourcing\"].str.replace('-','-20')\n",
        "test_df[\"Month of Sourcing\"]= test_df.apply(lambda x: parse(x['Month of Sourcing']),axis=1)\n",
        "test_df.reset_index(drop=True,inplace=True)\n",
        "test_df = test_df.rename(columns={\"Month of Sourcing\":\"ds\", \"Sourcing Cost\":\"y\"})\n",
        "\n",
        "pred = model.predict(test_df[[\"ds\"]])\n",
        "pred = pred[\"yhat\"].to_list()\n",
        "\n",
        "test_df[\"yhat\"] = pred\n",
        "\n",
        "print(test_df)"
      ],
      "execution_count": 17,
      "outputs": [
        {
          "output_type": "stream",
          "text": [
            "  ProductType Manufacturer Area Code  ...         ds      y       yhat\n",
            "0        NTM3           X1       A35  ... 2021-06-25  42.80  52.587484\n",
            "1        NTM3           X1       A44  ... 2021-06-25  89.57  52.587484\n",
            "\n",
            "[2 rows x 9 columns]\n"
          ],
          "name": "stdout"
        }
      ]
    },
    {
      "cell_type": "code",
      "metadata": {
        "colab": {
          "base_uri": "https://localhost:8080/"
        },
        "id": "dhv39nUv1Nz6",
        "outputId": "75530e5c-00e9-41ee-bfa6-e7844b389ff9"
      },
      "source": [
        "# Computing the Absolute Error in model's performance\n",
        "diff_col = test_df[\"y\"] - test_df[\"yhat\"]\n",
        "test_df[\"Absolute Error\"] = diff_col\n",
        "test_df[\"Absolute Error\"]= test_df.apply(lambda x: abs(x[\"Absolute Error\"]),axis=1)\n",
        "print(test_df)"
      ],
      "execution_count": 18,
      "outputs": [
        {
          "output_type": "stream",
          "text": [
            "  ProductType Manufacturer Area Code  ...      y       yhat Absolute Error\n",
            "0        NTM3           X1       A35  ...  42.80  52.587484       9.787484\n",
            "1        NTM3           X1       A44  ...  89.57  52.587484      36.982516\n",
            "\n",
            "[2 rows x 10 columns]\n"
          ],
          "name": "stdout"
        }
      ]
    },
    {
      "cell_type": "code",
      "metadata": {
        "colab": {
          "base_uri": "https://localhost:8080/"
        },
        "id": "cz_ta74x1aRn",
        "outputId": "e71c599d-bd5b-402c-ae68-33a7d337ce57"
      },
      "source": [
        "print(\"The mean absolute error in Sourcing Cost for this model's prediction is  \" + str(test_df[\"Absolute Error\"].mean()))"
      ],
      "execution_count": 19,
      "outputs": [
        {
          "output_type": "stream",
          "text": [
            "The mean absolute error in Sourcing Cost for this model's prediction is  23.384999999999998\n"
          ],
          "name": "stdout"
        }
      ]
    }
  ]
}