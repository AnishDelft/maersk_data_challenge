{
  "nbformat": 4,
  "nbformat_minor": 0,
  "metadata": {
    "colab": {
      "name": "x1_large_wholesale_model_and_predict.ipynb",
      "provenance": []
    },
    "kernelspec": {
      "name": "python3",
      "display_name": "Python 3"
    },
    "language_info": {
      "name": "python"
    }
  },
  "cells": [
    {
      "cell_type": "code",
      "metadata": {
        "id": "jK7owWzpz8tW"
      },
      "source": [
        "import pandas as pd # Import Pandas for data manipulation using dataframes\n",
        "import numpy as np # Import Numpy for data statistical analysis \n",
        "import matplotlib.pyplot as plt # Import matplotlib for data visualisation\n",
        "import random\n",
        "import seaborn as sns\n",
        "from fbprophet import Prophet\n",
        "from dateutil.parser import parse"
      ],
      "execution_count": 3,
      "outputs": []
    },
    {
      "cell_type": "code",
      "metadata": {
        "colab": {
          "base_uri": "https://localhost:8080/"
        },
        "id": "pmuY-A1T0LSZ",
        "outputId": "f316ace9-87d3-4d7c-ebc6-6c0f39e4482d"
      },
      "source": [
        "from google.colab import drive\n",
        "drive.mount('/content/drive')"
      ],
      "execution_count": 4,
      "outputs": [
        {
          "output_type": "stream",
          "text": [
            "Mounted at /content/drive\n"
          ],
          "name": "stdout"
        }
      ]
    },
    {
      "cell_type": "code",
      "metadata": {
        "id": "LkxMR8mZ0aI0"
      },
      "source": [
        "test_df = pd.read_csv(\"/content/drive/MyDrive/Maersk/test_data_maersk.csv\")"
      ],
      "execution_count": 17,
      "outputs": []
    },
    {
      "cell_type": "markdown",
      "metadata": {
        "id": "hIKOdRQ90ena"
      },
      "source": [
        "# Time Series Modeling and prediction for data where ***Manufacturer*** = ***X1*** and ***Product Size*** = ***Large*** and ***Sourcing Channel*** = ***WHOLESALE***"
      ]
    },
    {
      "cell_type": "code",
      "metadata": {
        "colab": {
          "base_uri": "https://localhost:8080/",
          "height": 203
        },
        "id": "WPN3GWGr0jvb",
        "outputId": "2515f626-c45a-40e3-c5c2-6c7f7500e2df"
      },
      "source": [
        "df = pd.read_csv(\"/content/drive/MyDrive/Maersk/x1_large_wholesale_outlier_removed_df.csv\")\n",
        "df.head()"
      ],
      "execution_count": 6,
      "outputs": [
        {
          "output_type": "execute_result",
          "data": {
            "text/html": [
              "<div>\n",
              "<style scoped>\n",
              "    .dataframe tbody tr th:only-of-type {\n",
              "        vertical-align: middle;\n",
              "    }\n",
              "\n",
              "    .dataframe tbody tr th {\n",
              "        vertical-align: top;\n",
              "    }\n",
              "\n",
              "    .dataframe thead th {\n",
              "        text-align: right;\n",
              "    }\n",
              "</style>\n",
              "<table border=\"1\" class=\"dataframe\">\n",
              "  <thead>\n",
              "    <tr style=\"text-align: right;\">\n",
              "      <th></th>\n",
              "      <th>Month of Sourcing</th>\n",
              "      <th>Sourcing Cost</th>\n",
              "    </tr>\n",
              "  </thead>\n",
              "  <tbody>\n",
              "    <tr>\n",
              "      <th>0</th>\n",
              "      <td>May-21</td>\n",
              "      <td>10.16</td>\n",
              "    </tr>\n",
              "    <tr>\n",
              "      <th>1</th>\n",
              "      <td>May-21</td>\n",
              "      <td>10.16</td>\n",
              "    </tr>\n",
              "    <tr>\n",
              "      <th>2</th>\n",
              "      <td>May-21</td>\n",
              "      <td>10.16</td>\n",
              "    </tr>\n",
              "    <tr>\n",
              "      <th>3</th>\n",
              "      <td>May-21</td>\n",
              "      <td>10.16</td>\n",
              "    </tr>\n",
              "    <tr>\n",
              "      <th>4</th>\n",
              "      <td>May-21</td>\n",
              "      <td>10.16</td>\n",
              "    </tr>\n",
              "  </tbody>\n",
              "</table>\n",
              "</div>"
            ],
            "text/plain": [
              "  Month of Sourcing  Sourcing Cost\n",
              "0            May-21          10.16\n",
              "1            May-21          10.16\n",
              "2            May-21          10.16\n",
              "3            May-21          10.16\n",
              "4            May-21          10.16"
            ]
          },
          "metadata": {
            "tags": []
          },
          "execution_count": 6
        }
      ]
    },
    {
      "cell_type": "code",
      "metadata": {
        "colab": {
          "base_uri": "https://localhost:8080/",
          "height": 203
        },
        "id": "nvT4KqTf01Wo",
        "outputId": "7bafe3d7-66cf-4c7f-dddd-d2bcaeeb331c"
      },
      "source": [
        "df[\"Month of Sourcing\"] = df[\"Month of Sourcing\"].str.replace('-','-20')\n",
        "df[\"Month of Sourcing\"]= df.apply(lambda x: parse(x['Month of Sourcing']),axis=1)\n",
        "df.head()"
      ],
      "execution_count": 7,
      "outputs": [
        {
          "output_type": "execute_result",
          "data": {
            "text/html": [
              "<div>\n",
              "<style scoped>\n",
              "    .dataframe tbody tr th:only-of-type {\n",
              "        vertical-align: middle;\n",
              "    }\n",
              "\n",
              "    .dataframe tbody tr th {\n",
              "        vertical-align: top;\n",
              "    }\n",
              "\n",
              "    .dataframe thead th {\n",
              "        text-align: right;\n",
              "    }\n",
              "</style>\n",
              "<table border=\"1\" class=\"dataframe\">\n",
              "  <thead>\n",
              "    <tr style=\"text-align: right;\">\n",
              "      <th></th>\n",
              "      <th>Month of Sourcing</th>\n",
              "      <th>Sourcing Cost</th>\n",
              "    </tr>\n",
              "  </thead>\n",
              "  <tbody>\n",
              "    <tr>\n",
              "      <th>0</th>\n",
              "      <td>2021-05-25</td>\n",
              "      <td>10.16</td>\n",
              "    </tr>\n",
              "    <tr>\n",
              "      <th>1</th>\n",
              "      <td>2021-05-25</td>\n",
              "      <td>10.16</td>\n",
              "    </tr>\n",
              "    <tr>\n",
              "      <th>2</th>\n",
              "      <td>2021-05-25</td>\n",
              "      <td>10.16</td>\n",
              "    </tr>\n",
              "    <tr>\n",
              "      <th>3</th>\n",
              "      <td>2021-05-25</td>\n",
              "      <td>10.16</td>\n",
              "    </tr>\n",
              "    <tr>\n",
              "      <th>4</th>\n",
              "      <td>2021-05-25</td>\n",
              "      <td>10.16</td>\n",
              "    </tr>\n",
              "  </tbody>\n",
              "</table>\n",
              "</div>"
            ],
            "text/plain": [
              "  Month of Sourcing  Sourcing Cost\n",
              "0        2021-05-25          10.16\n",
              "1        2021-05-25          10.16\n",
              "2        2021-05-25          10.16\n",
              "3        2021-05-25          10.16\n",
              "4        2021-05-25          10.16"
            ]
          },
          "metadata": {
            "tags": []
          },
          "execution_count": 7
        }
      ]
    },
    {
      "cell_type": "code",
      "metadata": {
        "colab": {
          "base_uri": "https://localhost:8080/",
          "height": 417
        },
        "id": "cBra4bik03Hv",
        "outputId": "d3f534b0-602c-48d3-bc5c-ae94d938169c"
      },
      "source": [
        "data = df\n",
        "data.sort_values(by=[\"Month of Sourcing\"])"
      ],
      "execution_count": 8,
      "outputs": [
        {
          "output_type": "execute_result",
          "data": {
            "text/html": [
              "<div>\n",
              "<style scoped>\n",
              "    .dataframe tbody tr th:only-of-type {\n",
              "        vertical-align: middle;\n",
              "    }\n",
              "\n",
              "    .dataframe tbody tr th {\n",
              "        vertical-align: top;\n",
              "    }\n",
              "\n",
              "    .dataframe thead th {\n",
              "        text-align: right;\n",
              "    }\n",
              "</style>\n",
              "<table border=\"1\" class=\"dataframe\">\n",
              "  <thead>\n",
              "    <tr style=\"text-align: right;\">\n",
              "      <th></th>\n",
              "      <th>Month of Sourcing</th>\n",
              "      <th>Sourcing Cost</th>\n",
              "    </tr>\n",
              "  </thead>\n",
              "  <tbody>\n",
              "    <tr>\n",
              "      <th>484</th>\n",
              "      <td>2020-07-25</td>\n",
              "      <td>5.55</td>\n",
              "    </tr>\n",
              "    <tr>\n",
              "      <th>489</th>\n",
              "      <td>2020-07-25</td>\n",
              "      <td>5.55</td>\n",
              "    </tr>\n",
              "    <tr>\n",
              "      <th>490</th>\n",
              "      <td>2020-07-25</td>\n",
              "      <td>5.55</td>\n",
              "    </tr>\n",
              "    <tr>\n",
              "      <th>491</th>\n",
              "      <td>2020-07-25</td>\n",
              "      <td>5.55</td>\n",
              "    </tr>\n",
              "    <tr>\n",
              "      <th>492</th>\n",
              "      <td>2020-07-25</td>\n",
              "      <td>5.55</td>\n",
              "    </tr>\n",
              "    <tr>\n",
              "      <th>...</th>\n",
              "      <td>...</td>\n",
              "      <td>...</td>\n",
              "    </tr>\n",
              "    <tr>\n",
              "      <th>35</th>\n",
              "      <td>2021-05-25</td>\n",
              "      <td>10.16</td>\n",
              "    </tr>\n",
              "    <tr>\n",
              "      <th>34</th>\n",
              "      <td>2021-05-25</td>\n",
              "      <td>10.16</td>\n",
              "    </tr>\n",
              "    <tr>\n",
              "      <th>33</th>\n",
              "      <td>2021-05-25</td>\n",
              "      <td>10.16</td>\n",
              "    </tr>\n",
              "    <tr>\n",
              "      <th>46</th>\n",
              "      <td>2021-05-25</td>\n",
              "      <td>10.16</td>\n",
              "    </tr>\n",
              "    <tr>\n",
              "      <th>0</th>\n",
              "      <td>2021-05-25</td>\n",
              "      <td>10.16</td>\n",
              "    </tr>\n",
              "  </tbody>\n",
              "</table>\n",
              "<p>1340 rows × 2 columns</p>\n",
              "</div>"
            ],
            "text/plain": [
              "    Month of Sourcing  Sourcing Cost\n",
              "484        2020-07-25           5.55\n",
              "489        2020-07-25           5.55\n",
              "490        2020-07-25           5.55\n",
              "491        2020-07-25           5.55\n",
              "492        2020-07-25           5.55\n",
              "..                ...            ...\n",
              "35         2021-05-25          10.16\n",
              "34         2021-05-25          10.16\n",
              "33         2021-05-25          10.16\n",
              "46         2021-05-25          10.16\n",
              "0          2021-05-25          10.16\n",
              "\n",
              "[1340 rows x 2 columns]"
            ]
          },
          "metadata": {
            "tags": []
          },
          "execution_count": 8
        }
      ]
    },
    {
      "cell_type": "code",
      "metadata": {
        "colab": {
          "base_uri": "https://localhost:8080/",
          "height": 613
        },
        "id": "2PdmuAon076Z",
        "outputId": "90564862-183c-434a-e824-45e157e1d63a"
      },
      "source": [
        "plt.figure(figsize=(10,10))\n",
        "plt.scatter(data[\"Month of Sourcing\"], data[\"Sourcing Cost\"])\n",
        "plt.ylim((0,500))"
      ],
      "execution_count": 9,
      "outputs": [
        {
          "output_type": "execute_result",
          "data": {
            "text/plain": [
              "(0.0, 500.0)"
            ]
          },
          "metadata": {
            "tags": []
          },
          "execution_count": 9
        },
        {
          "output_type": "display_data",
          "data": {
            "image/png": "[encoded data removed]",
            "text/plain": [
              "<Figure size 720x720 with 1 Axes>"
            ]
          },
          "metadata": {
            "tags": [],
            "needs_background": "light"
          }
        }
      ]
    },
    {
      "cell_type": "code",
      "metadata": {
        "id": "F1wiQFro1LKu"
      },
      "source": [
        "# renaming the columns to symbolize the timestamp and the target\n",
        "data = data.rename(columns={\"Month of Sourcing\":\"ds\", \"Sourcing Cost\":\"y\"})"
      ],
      "execution_count": 10,
      "outputs": []
    },
    {
      "cell_type": "code",
      "metadata": {
        "colab": {
          "base_uri": "https://localhost:8080/"
        },
        "id": "1YtvuRly1Bbz",
        "outputId": "d98ea103-9764-4a97-b135-7e7fa356b305"
      },
      "source": [
        "# instantiating an object of Prophet Class (Using the Prophet Forecasting model developed by Facebook)\n",
        "model = Prophet(seasonality_mode='multiplicative')\n",
        "model.fit(data)"
      ],
      "execution_count": 11,
      "outputs": [
        {
          "output_type": "stream",
          "text": [
            "INFO:numexpr.utils:NumExpr defaulting to 2 threads.\n",
            "INFO:fbprophet:Disabling yearly seasonality. Run prophet with yearly_seasonality=True to override this.\n",
            "INFO:fbprophet:Disabling weekly seasonality. Run prophet with weekly_seasonality=True to override this.\n",
            "INFO:fbprophet:Disabling daily seasonality. Run prophet with daily_seasonality=True to override this.\n"
          ],
          "name": "stderr"
        },
        {
          "output_type": "execute_result",
          "data": {
            "text/plain": [
              "<fbprophet.forecaster.Prophet at 0x7f268c233710>"
            ]
          },
          "metadata": {
            "tags": []
          },
          "execution_count": 11
        }
      ]
    },
    {
      "cell_type": "code",
      "metadata": {
        "colab": {
          "base_uri": "https://localhost:8080/"
        },
        "id": "hmlDBVSO1NtG",
        "outputId": "b7443b40-65dc-4902-a7ad-797cc0051ea6"
      },
      "source": [
        "# Making prediction on the filtered data\n",
        "test_df = test_df[(test_df[\"Manufacturer\"]==\"X1\") & (test_df[\"Product Size\"]==\"Large\") & (test_df[\"Sourcing Channel\"] ==\"WHOLESALE\") ]\n",
        "test_df[\"Month of Sourcing\"] = test_df[\"Month of Sourcing\"].str.replace('-','-20')\n",
        "test_df[\"Month of Sourcing\"]= test_df.apply(lambda x: parse(x['Month of Sourcing']),axis=1)\n",
        "test_df.reset_index(drop=True,inplace=True)\n",
        "test_df = test_df.rename(columns={\"Month of Sourcing\":\"ds\", \"Sourcing Cost\":\"y\"})\n",
        "\n",
        "pred = model.predict(test_df[[\"ds\"]])\n",
        "pred = pred[\"yhat\"].to_list()\n",
        "\n",
        "test_df[\"yhat\"] = pred\n",
        "\n",
        "print(test_df)\n"
      ],
      "execution_count": 18,
      "outputs": [
        {
          "output_type": "stream",
          "text": [
            "  ProductType Manufacturer Area Code  ...         ds      y       yhat\n",
            "0        NTM3           X1       A28  ... 2021-06-25  84.48 -17.297015\n",
            "\n",
            "[1 rows x 9 columns]\n"
          ],
          "name": "stdout"
        }
      ]
    },
    {
      "cell_type": "code",
      "metadata": {
        "colab": {
          "base_uri": "https://localhost:8080/"
        },
        "id": "wNgzJC6gzhRF",
        "outputId": "f9e1bb50-ef13-403d-f322-b59c9d95102d"
      },
      "source": [
        "# Computing the Absolute Error in model's performance\n",
        "diff_col = test_df[\"y\"] - test_df[\"yhat\"]\n",
        "test_df[\"Absolute Error\"] = diff_col\n",
        "test_df[\"Absolute Error\"]= test_df.apply(lambda x: abs(x[\"Absolute Error\"]),axis=1)\n",
        "print(test_df)"
      ],
      "execution_count": 19,
      "outputs": [
        {
          "output_type": "stream",
          "text": [
            "  ProductType Manufacturer Area Code  ...      y       yhat Absolute Error\n",
            "0        NTM3           X1       A28  ...  84.48 -17.297015     101.777015\n",
            "\n",
            "[1 rows x 10 columns]\n"
          ],
          "name": "stdout"
        }
      ]
    },
    {
      "cell_type": "code",
      "metadata": {
        "colab": {
          "base_uri": "https://localhost:8080/"
        },
        "id": "-Eqdv5Ar0U3M",
        "outputId": "00bd0552-be41-4912-d098-2fb1c692d529"
      },
      "source": [
        "print(\"The mean absolute error in Sourcing Cost for this model's prediction is  \" + str(test_df[\"Absolute Error\"].mean()))"
      ],
      "execution_count": 20,
      "outputs": [
        {
          "output_type": "stream",
          "text": [
            "The mean absolute error in Sourcing Cost for this model's prediction is  101.77701525117953\n"
          ],
          "name": "stdout"
        }
      ]
    }
  ]
}