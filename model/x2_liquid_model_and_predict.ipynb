{
  "nbformat": 4,
  "nbformat_minor": 0,
  "metadata": {
    "colab": {
      "name": "x2_liquid_model_and_predict.ipynb",
      "provenance": []
    },
    "kernelspec": {
      "name": "python3",
      "display_name": "Python 3"
    },
    "language_info": {
      "name": "python"
    }
  },
  "cells": [
    {
      "cell_type": "code",
      "metadata": {
        "id": "vDuaqN5M5-tK"
      },
      "source": [
        "import pandas as pd # Import Pandas for data manipulation using dataframes\n",
        "import numpy as np # Import Numpy for data statistical analysis \n",
        "import matplotlib.pyplot as plt # Import matplotlib for data visualisation\n",
        "import random\n",
        "import seaborn as sns\n",
        "from fbprophet import Prophet\n",
        "from dateutil.parser import parse"
      ],
      "execution_count": 1,
      "outputs": []
    },
    {
      "cell_type": "code",
      "metadata": {
        "colab": {
          "base_uri": "https://localhost:8080/"
        },
        "id": "zk1FYN4_6M6-",
        "outputId": "b31bd239-d69d-48e0-e4d8-20d85be49bda"
      },
      "source": [
        "from google.colab import drive\n",
        "drive.mount('/content/drive')"
      ],
      "execution_count": 2,
      "outputs": [
        {
          "output_type": "stream",
          "text": [
            "Mounted at /content/drive\n"
          ],
          "name": "stdout"
        }
      ]
    },
    {
      "cell_type": "code",
      "metadata": {
        "id": "llJlXIrz6XaT"
      },
      "source": [
        "# Loading the test data in memory\n",
        "test_df = pd.read_csv(\"/content/drive/MyDrive/Maersk/test_data_maersk.csv\")"
      ],
      "execution_count": 13,
      "outputs": []
    },
    {
      "cell_type": "markdown",
      "metadata": {
        "id": "lmLfHpvD6dpe"
      },
      "source": [
        "# Time Series Modeling and prediction for data where ***Manufacturer*** = ***X2*** and ***Product Type*** = ***Liquid***"
      ]
    },
    {
      "cell_type": "code",
      "metadata": {
        "colab": {
          "base_uri": "https://localhost:8080/",
          "height": 203
        },
        "id": "xeQc_Uie6aab",
        "outputId": "7ee9e576-2c7a-4602-8632-8adda4b3ee3f"
      },
      "source": [
        "# Loading the training data in memory\n",
        "df = pd.read_csv(\"/content/drive/MyDrive/Maersk/x2_liquid_outlier_removed_df.csv\")\n",
        "df.head()"
      ],
      "execution_count": 4,
      "outputs": [
        {
          "output_type": "execute_result",
          "data": {
            "text/html": [
              "<div>\n",
              "<style scoped>\n",
              "    .dataframe tbody tr th:only-of-type {\n",
              "        vertical-align: middle;\n",
              "    }\n",
              "\n",
              "    .dataframe tbody tr th {\n",
              "        vertical-align: top;\n",
              "    }\n",
              "\n",
              "    .dataframe thead th {\n",
              "        text-align: right;\n",
              "    }\n",
              "</style>\n",
              "<table border=\"1\" class=\"dataframe\">\n",
              "  <thead>\n",
              "    <tr style=\"text-align: right;\">\n",
              "      <th></th>\n",
              "      <th>Month of Sourcing</th>\n",
              "      <th>Sourcing Cost</th>\n",
              "    </tr>\n",
              "  </thead>\n",
              "  <tbody>\n",
              "    <tr>\n",
              "      <th>0</th>\n",
              "      <td>Nov-20</td>\n",
              "      <td>26.34</td>\n",
              "    </tr>\n",
              "    <tr>\n",
              "      <th>1</th>\n",
              "      <td>Nov-20</td>\n",
              "      <td>26.34</td>\n",
              "    </tr>\n",
              "    <tr>\n",
              "      <th>2</th>\n",
              "      <td>Nov-20</td>\n",
              "      <td>26.34</td>\n",
              "    </tr>\n",
              "    <tr>\n",
              "      <th>3</th>\n",
              "      <td>Nov-20</td>\n",
              "      <td>26.34</td>\n",
              "    </tr>\n",
              "    <tr>\n",
              "      <th>4</th>\n",
              "      <td>Nov-20</td>\n",
              "      <td>26.34</td>\n",
              "    </tr>\n",
              "  </tbody>\n",
              "</table>\n",
              "</div>"
            ],
            "text/plain": [
              "  Month of Sourcing  Sourcing Cost\n",
              "0            Nov-20          26.34\n",
              "1            Nov-20          26.34\n",
              "2            Nov-20          26.34\n",
              "3            Nov-20          26.34\n",
              "4            Nov-20          26.34"
            ]
          },
          "metadata": {
            "tags": []
          },
          "execution_count": 4
        }
      ]
    },
    {
      "cell_type": "code",
      "metadata": {
        "colab": {
          "base_uri": "https://localhost:8080/",
          "height": 203
        },
        "id": "9rvSJ4RU6pme",
        "outputId": "fb1ebcaa-e6c6-4f88-b26e-2da70f4264c2"
      },
      "source": [
        "# Converting the Month of Sourcing data from strinf to datetime format for training\n",
        "df[\"Month of Sourcing\"] = df[\"Month of Sourcing\"].str.replace('-','-20')\n",
        "df[\"Month of Sourcing\"]= df.apply(lambda x: parse(x['Month of Sourcing']),axis=1)\n",
        "df.head()"
      ],
      "execution_count": 6,
      "outputs": [
        {
          "output_type": "execute_result",
          "data": {
            "text/html": [
              "<div>\n",
              "<style scoped>\n",
              "    .dataframe tbody tr th:only-of-type {\n",
              "        vertical-align: middle;\n",
              "    }\n",
              "\n",
              "    .dataframe tbody tr th {\n",
              "        vertical-align: top;\n",
              "    }\n",
              "\n",
              "    .dataframe thead th {\n",
              "        text-align: right;\n",
              "    }\n",
              "</style>\n",
              "<table border=\"1\" class=\"dataframe\">\n",
              "  <thead>\n",
              "    <tr style=\"text-align: right;\">\n",
              "      <th></th>\n",
              "      <th>Month of Sourcing</th>\n",
              "      <th>Sourcing Cost</th>\n",
              "    </tr>\n",
              "  </thead>\n",
              "  <tbody>\n",
              "    <tr>\n",
              "      <th>0</th>\n",
              "      <td>2020-11-25</td>\n",
              "      <td>26.34</td>\n",
              "    </tr>\n",
              "    <tr>\n",
              "      <th>1</th>\n",
              "      <td>2020-11-25</td>\n",
              "      <td>26.34</td>\n",
              "    </tr>\n",
              "    <tr>\n",
              "      <th>2</th>\n",
              "      <td>2020-11-25</td>\n",
              "      <td>26.34</td>\n",
              "    </tr>\n",
              "    <tr>\n",
              "      <th>3</th>\n",
              "      <td>2020-11-25</td>\n",
              "      <td>26.34</td>\n",
              "    </tr>\n",
              "    <tr>\n",
              "      <th>4</th>\n",
              "      <td>2020-11-25</td>\n",
              "      <td>26.34</td>\n",
              "    </tr>\n",
              "  </tbody>\n",
              "</table>\n",
              "</div>"
            ],
            "text/plain": [
              "  Month of Sourcing  Sourcing Cost\n",
              "0        2020-11-25          26.34\n",
              "1        2020-11-25          26.34\n",
              "2        2020-11-25          26.34\n",
              "3        2020-11-25          26.34\n",
              "4        2020-11-25          26.34"
            ]
          },
          "metadata": {
            "tags": []
          },
          "execution_count": 6
        }
      ]
    },
    {
      "cell_type": "code",
      "metadata": {
        "colab": {
          "base_uri": "https://localhost:8080/",
          "height": 417
        },
        "id": "uDw68zgi6t8C",
        "outputId": "6f0e43d6-14d0-472c-ac42-c1de56d0f2b4"
      },
      "source": [
        "# Ordering the training data by Month of Sourcing (oldest to newest)\n",
        "data = df\n",
        "data.sort_values(by=[\"Month of Sourcing\"])"
      ],
      "execution_count": 7,
      "outputs": [
        {
          "output_type": "execute_result",
          "data": {
            "text/html": [
              "<div>\n",
              "<style scoped>\n",
              "    .dataframe tbody tr th:only-of-type {\n",
              "        vertical-align: middle;\n",
              "    }\n",
              "\n",
              "    .dataframe tbody tr th {\n",
              "        vertical-align: top;\n",
              "    }\n",
              "\n",
              "    .dataframe thead th {\n",
              "        text-align: right;\n",
              "    }\n",
              "</style>\n",
              "<table border=\"1\" class=\"dataframe\">\n",
              "  <thead>\n",
              "    <tr style=\"text-align: right;\">\n",
              "      <th></th>\n",
              "      <th>Month of Sourcing</th>\n",
              "      <th>Sourcing Cost</th>\n",
              "    </tr>\n",
              "  </thead>\n",
              "  <tbody>\n",
              "    <tr>\n",
              "      <th>3749</th>\n",
              "      <td>2020-07-25</td>\n",
              "      <td>24.16</td>\n",
              "    </tr>\n",
              "    <tr>\n",
              "      <th>3937</th>\n",
              "      <td>2020-07-25</td>\n",
              "      <td>23.87</td>\n",
              "    </tr>\n",
              "    <tr>\n",
              "      <th>3938</th>\n",
              "      <td>2020-07-25</td>\n",
              "      <td>23.87</td>\n",
              "    </tr>\n",
              "    <tr>\n",
              "      <th>3939</th>\n",
              "      <td>2020-07-25</td>\n",
              "      <td>24.20</td>\n",
              "    </tr>\n",
              "    <tr>\n",
              "      <th>3940</th>\n",
              "      <td>2020-07-25</td>\n",
              "      <td>23.86</td>\n",
              "    </tr>\n",
              "    <tr>\n",
              "      <th>...</th>\n",
              "      <td>...</td>\n",
              "      <td>...</td>\n",
              "    </tr>\n",
              "    <tr>\n",
              "      <th>4991</th>\n",
              "      <td>2021-05-25</td>\n",
              "      <td>24.48</td>\n",
              "    </tr>\n",
              "    <tr>\n",
              "      <th>4992</th>\n",
              "      <td>2021-05-25</td>\n",
              "      <td>24.96</td>\n",
              "    </tr>\n",
              "    <tr>\n",
              "      <th>4993</th>\n",
              "      <td>2021-05-25</td>\n",
              "      <td>24.48</td>\n",
              "    </tr>\n",
              "    <tr>\n",
              "      <th>5013</th>\n",
              "      <td>2021-05-25</td>\n",
              "      <td>24.48</td>\n",
              "    </tr>\n",
              "    <tr>\n",
              "      <th>5093</th>\n",
              "      <td>2021-05-25</td>\n",
              "      <td>24.48</td>\n",
              "    </tr>\n",
              "  </tbody>\n",
              "</table>\n",
              "<p>13162 rows × 2 columns</p>\n",
              "</div>"
            ],
            "text/plain": [
              "     Month of Sourcing  Sourcing Cost\n",
              "3749        2020-07-25          24.16\n",
              "3937        2020-07-25          23.87\n",
              "3938        2020-07-25          23.87\n",
              "3939        2020-07-25          24.20\n",
              "3940        2020-07-25          23.86\n",
              "...                ...            ...\n",
              "4991        2021-05-25          24.48\n",
              "4992        2021-05-25          24.96\n",
              "4993        2021-05-25          24.48\n",
              "5013        2021-05-25          24.48\n",
              "5093        2021-05-25          24.48\n",
              "\n",
              "[13162 rows x 2 columns]"
            ]
          },
          "metadata": {
            "tags": []
          },
          "execution_count": 7
        }
      ]
    },
    {
      "cell_type": "code",
      "metadata": {
        "colab": {
          "base_uri": "https://localhost:8080/",
          "height": 613
        },
        "id": "DW1TExeO61Bs",
        "outputId": "a3ec9277-3adb-44cb-db4f-d09d7647f232"
      },
      "source": [
        "# Plottting the training data to visualize the scatter plot of the grouped time-series\n",
        "plt.figure(figsize=(10,10))\n",
        "plt.scatter(data[\"Month of Sourcing\"], data[\"Sourcing Cost\"])\n",
        "plt.ylim((0,500))"
      ],
      "execution_count": 8,
      "outputs": [
        {
          "output_type": "execute_result",
          "data": {
            "text/plain": [
              "(0.0, 500.0)"
            ]
          },
          "metadata": {
            "tags": []
          },
          "execution_count": 8
        },
        {
          "output_type": "display_data",
          "data": {
            "image/png": "[encoded data removed]",
            "text/plain": [
              "<Figure size 720x720 with 1 Axes>"
            ]
          },
          "metadata": {
            "tags": [],
            "needs_background": "light"
          }
        }
      ]
    },
    {
      "cell_type": "code",
      "metadata": {
        "id": "poswmTIJ67Kc"
      },
      "source": [
        "# renaming the columns to symbolize the timestamp and the target\n",
        "data = data.rename(columns={\"Month of Sourcing\":\"ds\", \"Sourcing Cost\":\"y\"})"
      ],
      "execution_count": 9,
      "outputs": []
    },
    {
      "cell_type": "code",
      "metadata": {
        "colab": {
          "base_uri": "https://localhost:8080/"
        },
        "id": "FVR0QnBK698f",
        "outputId": "0446bbc1-c255-4c97-93b1-99ac41e177a5"
      },
      "source": [
        "# instantiating an object of Prophet Class (Using the Prophet Forecasting model developed by Facebook)\n",
        "model = Prophet()\n",
        "model.fit(data)"
      ],
      "execution_count": 12,
      "outputs": [
        {
          "output_type": "stream",
          "text": [
            "INFO:numexpr.utils:NumExpr defaulting to 2 threads.\n",
            "INFO:fbprophet:Disabling yearly seasonality. Run prophet with yearly_seasonality=True to override this.\n",
            "INFO:fbprophet:Disabling weekly seasonality. Run prophet with weekly_seasonality=True to override this.\n",
            "INFO:fbprophet:Disabling daily seasonality. Run prophet with daily_seasonality=True to override this.\n"
          ],
          "name": "stderr"
        },
        {
          "output_type": "execute_result",
          "data": {
            "text/plain": [
              "<fbprophet.forecaster.Prophet at 0x7f3935cb4b10>"
            ]
          },
          "metadata": {
            "tags": []
          },
          "execution_count": 12
        }
      ]
    },
    {
      "cell_type": "code",
      "metadata": {
        "colab": {
          "base_uri": "https://localhost:8080/"
        },
        "id": "OjyNbFri7CvR",
        "outputId": "a6255dad-9b7f-4991-9697-0996e66aa457"
      },
      "source": [
        "# Making prediction on the filtered data\n",
        "test_df = test_df[(test_df[\"Manufacturer\"]==\"X2\") & (test_df[\"Product Type\"]==\"Liquid\") ]\n",
        "test_df[\"Month of Sourcing\"] = test_df[\"Month of Sourcing\"].str.replace('-','-20')\n",
        "test_df[\"Month of Sourcing\"]= test_df.apply(lambda x: parse(x['Month of Sourcing']),axis=1)\n",
        "test_df = test_df[[\"Month of Sourcing\",\"Sourcing Cost\"]]\n",
        "test_df.reset_index(drop=True,inplace=True)\n",
        "test_df = test_df.rename(columns={\"Month of Sourcing\":\"ds\", \"Sourcing Cost\":\"y\"})\n",
        "\n",
        "pred = model.predict(test_df[[\"ds\"]])\n",
        "pred = pred[\"yhat\"].to_list()\n",
        "\n",
        "test_df[\"yhat\"] = pred\n",
        "\n",
        "print(test_df)"
      ],
      "execution_count": 14,
      "outputs": [
        {
          "output_type": "stream",
          "text": [
            "          ds      y       yhat\n",
            "0 2021-06-25  54.47  24.668965\n",
            "1 2021-06-25  31.44  24.668965\n",
            "2 2021-06-25  22.62  24.668965\n",
            "3 2021-06-25  14.01  24.668965\n"
          ],
          "name": "stdout"
        }
      ]
    },
    {
      "cell_type": "code",
      "metadata": {
        "colab": {
          "base_uri": "https://localhost:8080/"
        },
        "id": "LkzO-inN5oag",
        "outputId": "11f1afc7-50b5-4bae-da23-4302951f438c"
      },
      "source": [
        "# Computing the Absolute Error in model's performance\n",
        "diff_col = test_df[\"y\"] - test_df[\"yhat\"]\n",
        "test_df[\"Absolute Error\"] = diff_col\n",
        "test_df[\"Absolute Error\"]= test_df.apply(lambda x: abs(x[\"Absolute Error\"]),axis=1)\n",
        "print(test_df)"
      ],
      "execution_count": 15,
      "outputs": [
        {
          "output_type": "stream",
          "text": [
            "          ds      y       yhat  Absolute Error\n",
            "0 2021-06-25  54.47  24.668965       29.801035\n",
            "1 2021-06-25  31.44  24.668965        6.771035\n",
            "2 2021-06-25  22.62  24.668965        2.048965\n",
            "3 2021-06-25  14.01  24.668965       10.658965\n"
          ],
          "name": "stdout"
        }
      ]
    },
    {
      "cell_type": "code",
      "metadata": {
        "id": "RWnDT8VN5pzz",
        "outputId": "36fe88ac-6824-4d70-dc69-0041f78dff53",
        "colab": {
          "base_uri": "https://localhost:8080/"
        }
      },
      "source": [
        "print(\"The mean absolute error in Sourcing Cost for this model's prediction is  \" + str(test_df[\"Absolute Error\"].mean()))"
      ],
      "execution_count": 16,
      "outputs": [
        {
          "output_type": "stream",
          "text": [
            "The mean absolute error in Sourcing Cost for this model's prediction is  12.32\n"
          ],
          "name": "stdout"
        }
      ]
    }
  ]
}