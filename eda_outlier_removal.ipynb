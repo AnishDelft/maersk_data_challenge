{
 "cells": [
  {
   "cell_type": "markdown",
   "source": [
    "# Maersk Data Challenge"
   ],
   "metadata": {}
  },
  {
   "cell_type": "markdown",
   "source": [
    "## Objective \r\n",
    "Generation of forecasting models to forecast ***Sourcing Cost*** for the Month Jun-2021"
   ],
   "metadata": {}
  },
  {
   "cell_type": "code",
   "execution_count": 118,
   "source": [
    "# Importing required libraries\r\n",
    "\r\n",
    "import pandas as pd  # for data analysis and manipulation \r\n",
    "import matplotlib.pyplot as plt # for creating plots\r\n",
    "import numpy as np # for working with arrays\r\n",
    "from dateutil.parser import parse # for conversion of string data into datetime format"
   ],
   "outputs": [],
   "metadata": {}
  },
  {
   "cell_type": "code",
   "execution_count": 119,
   "source": [
    "# loading the data and checking the shape of the data\r\n",
    "\r\n",
    "training_df = pd.read_csv('training_data_maersk.csv')\r\n",
    "print(\"The shape of the dataset is \", training_df.shape)"
   ],
   "outputs": [
    {
     "output_type": "stream",
     "name": "stdout",
     "text": [
      "The shape of the dataset is  (550176, 8)\n"
     ]
    }
   ],
   "metadata": {}
  },
  {
   "cell_type": "code",
   "execution_count": 120,
   "source": [
    "# Checking for each column (except Sourcing Cost) what are the unique data points\r\n",
    "\r\n",
    "print('The keys of the dataframe are :')\r\n",
    "list_of_keys =  list(training_df.columns)\r\n",
    "print(list_of_keys)\r\n",
    "print(\"***---****----\")\r\n",
    "\r\n",
    "for key in list_of_keys[:-1]:\r\n",
    "    temp_df =  training_df[key]\r\n",
    "    print(\"Unique element in column  : \" + key)\r\n",
    "    print(temp_df.unique())\r\n",
    "    print(\"Number of Unique Elements in Column \" + key + \"  is  \" +str(len(temp_df.unique())))\r\n",
    "    print(\"****----------****-------------\")"
   ],
   "outputs": [
    {
     "output_type": "stream",
     "name": "stdout",
     "text": [
      "The keys of the dataframe are :\n",
      "['ProductType', 'Manufacturer', 'Area Code', 'Sourcing Channel', 'Product Size', 'Product Type', 'Month of Sourcing', 'Sourcing Cost']\n",
      "***---****----\n",
      "Unique element in column  : ProductType\n",
      "['NTM3' 'NTM2' 'NTM1']\n",
      "Number of Unique Elements in Column ProductType  is  3\n",
      "****----------****-------------\n",
      "Unique element in column  : Manufacturer\n",
      "['X1' 'X2' 'X3']\n",
      "Number of Unique Elements in Column Manufacturer  is  3\n",
      "****----------****-------------\n",
      "Unique element in column  : Area Code\n",
      "['A28' 'A9' 'A20' 'A18' 'A10' 'A19' 'A29' 'A7' 'A2' 'A8' 'A4' 'A6' 'A30'\n",
      " 'A35' 'A44' 'A45' 'A31' 'A25' 'A37' 'A32' 'A34' 'A46' 'A11' 'A39' 'A41'\n",
      " 'A17' 'A38' 'A5' 'A22' 'A3' 'A12' 'A24' 'A36' 'A42' 'A14' 'A43' 'A33'\n",
      " 'A15' 'A40' 'A21' 'A16' 'A13' 'A1' 'A23' 'A26']\n",
      "Number of Unique Elements in Column Area Code  is  45\n",
      "****----------****-------------\n",
      "Unique element in column  : Sourcing Channel\n",
      "['WHOLESALE' 'DIRECT' 'RETAIL' 'ECOM']\n",
      "Number of Unique Elements in Column Sourcing Channel  is  4\n",
      "****----------****-------------\n",
      "Unique element in column  : Product Size\n",
      "['Large' 'Small' 'ExtraLarge']\n",
      "Number of Unique Elements in Column Product Size  is  3\n",
      "****----------****-------------\n",
      "Unique element in column  : Product Type\n",
      "['Powder' 'Liquid']\n",
      "Number of Unique Elements in Column Product Type  is  2\n",
      "****----------****-------------\n",
      "Unique element in column  : Month of Sourcing\n",
      "['May-21' 'Oct-20' 'Dec-20' 'Feb-21' 'Nov-20' 'Sep-20' 'Mar-21' 'Jan-21'\n",
      " 'Apr-21' 'Jul-20' 'Aug-20']\n",
      "Number of Unique Elements in Column Month of Sourcing  is  11\n",
      "****----------****-------------\n"
     ]
    }
   ],
   "metadata": {}
  },
  {
   "cell_type": "markdown",
   "source": [
    "# Hypothesis"
   ],
   "metadata": {}
  },
  {
   "cell_type": "markdown",
   "source": [
    "On visual inspection of data in MS-Excel, it was observed that in most cases, one ***Area Code*** was being served by a single ***Manufacturer*** through a single ***Sourcing Channel*** delivering a particular ***Product Type*** of a fixed ***Product Size***.\r\n",
    "\r\n",
    "Based on this a hypothesis was formulated, that the data corresponding to each unique ***Area Code*** was entirely made up of one unqiue combination of ***Manufacturer***, ***Product Type***,***Product Size*** and ***Sourcing Channel***\r\n",
    "\r\n",
    "To verify this hypothesis, out of the 45 ***Area Code***, 5 ***Area Code*** were randomly sampled and unique combinations serving those ***Area Code*** were verified. "
   ],
   "metadata": {}
  },
  {
   "cell_type": "code",
   "execution_count": 121,
   "source": [
    "# Get the unique list of area code\r\n",
    "area_code_list = list(training_df[\"Area Code\"].unique())\r\n",
    "print(area_code_list)"
   ],
   "outputs": [
    {
     "output_type": "stream",
     "name": "stdout",
     "text": [
      "['A28', 'A9', 'A20', 'A18', 'A10', 'A19', 'A29', 'A7', 'A2', 'A8', 'A4', 'A6', 'A30', 'A35', 'A44', 'A45', 'A31', 'A25', 'A37', 'A32', 'A34', 'A46', 'A11', 'A39', 'A41', 'A17', 'A38', 'A5', 'A22', 'A3', 'A12', 'A24', 'A36', 'A42', 'A14', 'A43', 'A33', 'A15', 'A40', 'A21', 'A16', 'A13', 'A1', 'A23', 'A26']\n"
     ]
    }
   ],
   "metadata": {}
  },
  {
   "cell_type": "code",
   "execution_count": 122,
   "source": [
    "# randomly get 5 Area Code to verfiy claim (seed for reproducibility)\r\n",
    "np.random.seed(9)\r\n",
    "random_idx = list(np.random.randint(1,len(training_df[\"Area Code\"].unique()),5))"
   ],
   "outputs": [],
   "metadata": {}
  },
  {
   "cell_type": "code",
   "execution_count": 123,
   "source": [
    "# printing the head and tail of each Area Code data to verify hypothesis (Only 1 experiment out of the many performed being shown to keep the notebook concise)\r\n",
    "for area_code_idx in random_idx:\r\n",
    "    sample_area_code = area_code_list[area_code_idx]\r\n",
    "    sample_df =  training_df[training_df[\"Area Code\"]== sample_area_code]\r\n",
    "    with pd.option_context('expand_frame_repr', False):\r\n",
    "        print(sample_df.head(5).append(sample_df.tail(5)))\r\n",
    "    print(\"****----****-----****\")"
   ],
   "outputs": [
    {
     "output_type": "stream",
     "name": "stdout",
     "text": [
      "       ProductType Manufacturer Area Code Sourcing Channel Product Size Product Type Month of Sourcing  Sourcing Cost\n",
      "138663        NTM2           X1        A3           DIRECT        Small       Powder            Nov-20         139.90\n",
      "138680        NTM2           X1        A3           DIRECT        Small       Powder            Aug-20         137.52\n",
      "138692        NTM2           X1        A3           DIRECT        Small       Powder            Apr-21         150.54\n",
      "138727        NTM1           X1        A3           DIRECT        Large       Liquid            Sep-20         154.60\n",
      "138740        NTM1           X1        A3           DIRECT        Large       Powder            Aug-20         110.89\n",
      "550127        NTM2           X1        A3           DIRECT        Small       Powder            Feb-21         150.85\n",
      "550137        NTM2           X1        A3           DIRECT        Small       Powder            Oct-20         133.58\n",
      "550143        NTM1           X1        A3           DIRECT        Large       Liquid            Jan-21         149.71\n",
      "550163        NTM2           X1        A3           DIRECT        Small       Powder            Apr-21         148.52\n",
      "550175        NTM1           X1        A3           DIRECT        Small       Powder            Nov-20         139.42\n",
      "****----****-----****\n",
      "       ProductType Manufacturer Area Code Sourcing Channel Product Size Product Type Month of Sourcing  Sourcing Cost\n",
      "136           NTM1           X2       A39           DIRECT        Large       Liquid            Nov-20          31.38\n",
      "157           NTM1           X2       A39           DIRECT        Large       Liquid            Oct-20          31.45\n",
      "222           NTM1           X2       A39           DIRECT        Large       Liquid            Apr-21          31.87\n",
      "242           NTM1           X2       A39           DIRECT        Large       Liquid            Mar-21          31.38\n",
      "289           NTM1           X2       A39           DIRECT        Large       Liquid            Oct-20          31.55\n",
      "138305        NTM1           X2       A39           DIRECT        Large       Liquid            Oct-20          31.78\n",
      "138313        NTM1           X2       A39           DIRECT        Large       Liquid            Apr-21          31.96\n",
      "138388        NTM1           X2       A39           DIRECT        Large       Liquid            Feb-21          31.49\n",
      "138453        NTM1           X2       A39           DIRECT        Large       Liquid            May-21          31.52\n",
      "138613        NTM1           X2       A39           DIRECT        Large       Liquid            Apr-21          31.88\n",
      "****----****-----****\n",
      "       ProductType Manufacturer Area Code Sourcing Channel Product Size Product Type Month of Sourcing  Sourcing Cost\n",
      "2             NTM3           X2       A20           DIRECT        Large       Powder            Dec-20          12.46\n",
      "9             NTM3           X2       A20           DIRECT        Large       Powder            Mar-21          85.71\n",
      "255           NTM3           X2       A20           DIRECT        Large       Powder            Feb-21          23.59\n",
      "272           NTM3           X2       A20           DIRECT        Large       Powder            Mar-21          74.11\n",
      "278           NTM3           X2       A20           DIRECT        Large       Powder            Nov-20          91.19\n",
      "138399        NTM3           X2       A20           DIRECT        Large       Powder            Aug-20         125.80\n",
      "138406        NTM3           X2       A20           DIRECT        Large       Powder            Aug-20          51.66\n",
      "138478        NTM3           X2       A20           DIRECT        Large       Powder            Mar-21          82.15\n",
      "138566        NTM3           X2       A20           DIRECT        Large       Powder            Jul-20         115.24\n",
      "138605        NTM3           X2       A20           DIRECT        Large       Powder            Oct-20          19.18\n",
      "****----****-----****\n",
      "       ProductType Manufacturer Area Code Sourcing Channel Product Size Product Type Month of Sourcing  Sourcing Cost\n",
      "136           NTM1           X2       A39           DIRECT        Large       Liquid            Nov-20          31.38\n",
      "157           NTM1           X2       A39           DIRECT        Large       Liquid            Oct-20          31.45\n",
      "222           NTM1           X2       A39           DIRECT        Large       Liquid            Apr-21          31.87\n",
      "242           NTM1           X2       A39           DIRECT        Large       Liquid            Mar-21          31.38\n",
      "289           NTM1           X2       A39           DIRECT        Large       Liquid            Oct-20          31.55\n",
      "138305        NTM1           X2       A39           DIRECT        Large       Liquid            Oct-20          31.78\n",
      "138313        NTM1           X2       A39           DIRECT        Large       Liquid            Apr-21          31.96\n",
      "138388        NTM1           X2       A39           DIRECT        Large       Liquid            Feb-21          31.49\n",
      "138453        NTM1           X2       A39           DIRECT        Large       Liquid            May-21          31.52\n",
      "138613        NTM1           X2       A39           DIRECT        Large       Liquid            Apr-21          31.88\n",
      "****----****-----****\n",
      "       ProductType Manufacturer Area Code Sourcing Channel Product Size Product Type Month of Sourcing  Sourcing Cost\n",
      "138763        NTM3           X1       A13           DIRECT        Large       Powder            Oct-20          28.59\n",
      "138847        NTM3           X1       A13           DIRECT        Large       Powder            Apr-21          63.00\n",
      "138931        NTM3           X1       A13           DIRECT        Large       Powder            Oct-20          28.59\n",
      "138938        NTM3           X1       A13           DIRECT        Large       Powder            Jan-21          26.35\n",
      "138957        NTM3           X1       A13           DIRECT        Large       Powder            Mar-21          14.78\n",
      "549887        NTM3           X1       A13           DIRECT        Large       Powder            Dec-20          39.30\n",
      "549920        NTM3           X1       A13           DIRECT        Large       Powder            Nov-20          71.62\n",
      "549969        NTM3           X1       A13           DIRECT        Large       Powder            Nov-20          17.04\n",
      "549997        NTM3           X1       A13           DIRECT        Large       Powder            Mar-21          23.28\n",
      "550156        NTM3           X1       A13           DIRECT        Large       Powder            Jan-21          48.35\n",
      "****----****-----****\n"
     ]
    }
   ],
   "metadata": {}
  },
  {
   "cell_type": "markdown",
   "source": [
    "# Observations\r\n",
    "\r\n",
    "It was observed that for most cases. one ***Area Code*** was being served by a unique combination. There were some ***Area Code*** were different ***Sourcing Channel*** were used within the same ***Area Code***, there were some ***Area Code*** were different ***Product Type*** and ***Product Size*** was sourced within the same ***Area Code***. There were also a very few ***Area Code*** which were served by different ***Manufacturer**"
   ],
   "metadata": {}
  },
  {
   "cell_type": "markdown",
   "source": [
    "# TakeAways\r\n",
    "\r\n",
    "If the hypothesis of 1 unique combination serving 1 ***Area Code*** was true, then it would result in 45 time series models to forecast ***Sourcing Cost*** for each ***Area Code***. Since the hypothesis is not true, the theoretical number of models which will be needed to accurately do forecasting for a particular unique combination are: \r\n",
    "\r\n",
    "3 (ProductType) x 3 (Manufacturer) x 45 (Area Code) x 4 (Sourcing Channel) x 2 (Product Type) x 3 (Product Size) = 9720 unique combinations/9720 models\r\n",
    "\r\n",
    "This although is a theoretical number, in practicality we have seen that most ***Area Code***  is served by a single unique combination. This means that we would need somewhere between 45 models and 9720 models to do accurate time-series forecasting for each unique combination\r\n",
    "\r\n",
    "The lower bound of 45 is also dependent on the number of unique ***Area Code*** being served and if in future unique count of ***Area Code*** scales up, the lower bound of number of required models also scales up.\r\n",
    "\r\n",
    "In the current form, assuming 45 models (1 for each ***Area Code***) serves our purpose of forecasting, it is ***not*** a scalable solution. To build a scalable solution, we need to group similar time-series together intelligently and separate those are different and perform modeling on similiar time-series together. This would impact the accuracy a little but it is a trade-off for ***scalability***"
   ],
   "metadata": {}
  },
  {
   "cell_type": "markdown",
   "source": [
    "# Grouping Similar Time-Series Together\r\n",
    "\r\n",
    "Since the quantum of time in this dataset is a month, similarity/dissimilarity assumptions are tested on a month's data. First, a random month is picked and using statistics similar data is grouped together and dissimilar data is separated for modeling. This is repeated on 3 seperate month's data to ensure that these assumptions hold true.\r\n",
    "\r\n",
    "The idea is to use descriptive statistics (mean and median) to find out which data can be grouped together. The idea is that in a subset of similar time-series data, the variance of mean and median of a unique elements of a column should be less (Eg:- if for Sourcing Channel, the mean and median of RETAIL and DIRECT are similar we will treat it as similar time series and model them together). We keep on splitting the data until the mean and median of individual component of each column becomes more or less similar. The structure of this splitting logic resembles a tree like structure"
   ],
   "metadata": {}
  },
  {
   "cell_type": "code",
   "execution_count": 124,
   "source": [
    "# selecting 3 random months from the unique 11 months in the dataset (seed for reproducibility)\r\n",
    "np.random.seed(8)\r\n",
    "random_month_idx = list(np.random.randint(1,len(training_df[\"Month of Sourcing\"].unique()),3))\r\n",
    "print(random_month_idx)\r\n",
    "print(training_df[\"Month of Sourcing\"].unique())"
   ],
   "outputs": [
    {
     "output_type": "stream",
     "name": "stdout",
     "text": [
      "[4, 5, 2]\n",
      "['May-21' 'Oct-20' 'Dec-20' 'Feb-21' 'Nov-20' 'Sep-20' 'Mar-21' 'Jan-21'\n",
      " 'Apr-21' 'Jul-20' 'Aug-20']\n"
     ]
    }
   ],
   "metadata": {}
  },
  {
   "cell_type": "code",
   "execution_count": 125,
   "source": [
    "# 3 slice of dataset for 3 randomly picked month to verify our assumptions\r\n",
    "assumption1_df = training_df[training_df[\"Month of Sourcing\"] == training_df[\"Month of Sourcing\"].unique()[4]]\r\n",
    "assumption2_df = training_df[training_df[\"Month of Sourcing\"] == training_df[\"Month of Sourcing\"].unique()[5]]\r\n",
    "assumption3_df = training_df[training_df[\"Month of Sourcing\"] == training_df[\"Month of Sourcing\"].unique()[2]]"
   ],
   "outputs": [],
   "metadata": {}
  },
  {
   "cell_type": "code",
   "execution_count": 126,
   "source": [
    "assumption1_df.head()"
   ],
   "outputs": [
    {
     "output_type": "execute_result",
     "data": {
      "text/plain": [
       "   ProductType Manufacturer Area Code Sourcing Channel Product Size  \\\n",
       "4         NTM2           X1       A28           DIRECT        Large   \n",
       "8         NTM3           X1       A18           RETAIL        Large   \n",
       "14        NTM2           X1        A2           DIRECT        Large   \n",
       "15        NTM2           X1        A2           DIRECT        Large   \n",
       "17        NTM2           X1        A6           DIRECT        Large   \n",
       "\n",
       "   Product Type Month of Sourcing  Sourcing Cost  \n",
       "4        Liquid            Nov-20         197.76  \n",
       "8        Liquid            Nov-20         154.04  \n",
       "14       Powder            Nov-20         172.51  \n",
       "15       Powder            Nov-20         173.91  \n",
       "17       Powder            Nov-20         150.02  "
      ],
      "text/html": [
       "<div>\n",
       "<style scoped>\n",
       "    .dataframe tbody tr th:only-of-type {\n",
       "        vertical-align: middle;\n",
       "    }\n",
       "\n",
       "    .dataframe tbody tr th {\n",
       "        vertical-align: top;\n",
       "    }\n",
       "\n",
       "    .dataframe thead th {\n",
       "        text-align: right;\n",
       "    }\n",
       "</style>\n",
       "<table border=\"1\" class=\"dataframe\">\n",
       "  <thead>\n",
       "    <tr style=\"text-align: right;\">\n",
       "      <th></th>\n",
       "      <th>ProductType</th>\n",
       "      <th>Manufacturer</th>\n",
       "      <th>Area Code</th>\n",
       "      <th>Sourcing Channel</th>\n",
       "      <th>Product Size</th>\n",
       "      <th>Product Type</th>\n",
       "      <th>Month of Sourcing</th>\n",
       "      <th>Sourcing Cost</th>\n",
       "    </tr>\n",
       "  </thead>\n",
       "  <tbody>\n",
       "    <tr>\n",
       "      <th>4</th>\n",
       "      <td>NTM2</td>\n",
       "      <td>X1</td>\n",
       "      <td>A28</td>\n",
       "      <td>DIRECT</td>\n",
       "      <td>Large</td>\n",
       "      <td>Liquid</td>\n",
       "      <td>Nov-20</td>\n",
       "      <td>197.76</td>\n",
       "    </tr>\n",
       "    <tr>\n",
       "      <th>8</th>\n",
       "      <td>NTM3</td>\n",
       "      <td>X1</td>\n",
       "      <td>A18</td>\n",
       "      <td>RETAIL</td>\n",
       "      <td>Large</td>\n",
       "      <td>Liquid</td>\n",
       "      <td>Nov-20</td>\n",
       "      <td>154.04</td>\n",
       "    </tr>\n",
       "    <tr>\n",
       "      <th>14</th>\n",
       "      <td>NTM2</td>\n",
       "      <td>X1</td>\n",
       "      <td>A2</td>\n",
       "      <td>DIRECT</td>\n",
       "      <td>Large</td>\n",
       "      <td>Powder</td>\n",
       "      <td>Nov-20</td>\n",
       "      <td>172.51</td>\n",
       "    </tr>\n",
       "    <tr>\n",
       "      <th>15</th>\n",
       "      <td>NTM2</td>\n",
       "      <td>X1</td>\n",
       "      <td>A2</td>\n",
       "      <td>DIRECT</td>\n",
       "      <td>Large</td>\n",
       "      <td>Powder</td>\n",
       "      <td>Nov-20</td>\n",
       "      <td>173.91</td>\n",
       "    </tr>\n",
       "    <tr>\n",
       "      <th>17</th>\n",
       "      <td>NTM2</td>\n",
       "      <td>X1</td>\n",
       "      <td>A6</td>\n",
       "      <td>DIRECT</td>\n",
       "      <td>Large</td>\n",
       "      <td>Powder</td>\n",
       "      <td>Nov-20</td>\n",
       "      <td>150.02</td>\n",
       "    </tr>\n",
       "  </tbody>\n",
       "</table>\n",
       "</div>"
      ]
     },
     "metadata": {},
     "execution_count": 126
    }
   ],
   "metadata": {}
  },
  {
   "cell_type": "markdown",
   "source": [
    "# Assumption Testing on First Random Month"
   ],
   "metadata": {}
  },
  {
   "cell_type": "code",
   "execution_count": 127,
   "source": [
    "print(assumption1_df.groupby([\"ProductType\"]).agg([\"mean\",\"median\"]))\r\n",
    "print(assumption1_df.groupby([\"Manufacturer\"]).agg([\"mean\",\"median\"]))\r\n",
    "print(assumption1_df.groupby([\"Sourcing Channel\"]).agg([\"mean\",\"median\"]))\r\n",
    "print(assumption1_df.groupby([\"Product Size\"]).agg([\"mean\",\"median\"]))\r\n",
    "print(assumption1_df.groupby([\"Product Type\"]).agg([\"mean\",\"median\"]))"
   ],
   "outputs": [
    {
     "output_type": "stream",
     "name": "stdout",
     "text": [
      "            Sourcing Cost        \n",
      "                     mean  median\n",
      "ProductType                      \n",
      "NTM1           109.984835  138.70\n",
      "NTM2           119.764429  138.17\n",
      "NTM3            74.550019   65.43\n",
      "             Sourcing Cost        \n",
      "                      mean  median\n",
      "Manufacturer                      \n",
      "X1              123.112588  138.70\n",
      "X2               57.178501   26.94\n",
      "X3               54.019449   52.66\n",
      "                 Sourcing Cost        \n",
      "                          mean  median\n",
      "Sourcing Channel                      \n",
      "DIRECT              105.498398  137.36\n",
      "ECOM                147.756885  140.16\n",
      "RETAIL               84.445429   64.34\n",
      "WHOLESALE            54.819533   21.66\n",
      "             Sourcing Cost        \n",
      "                      mean  median\n",
      "Product Size                      \n",
      "ExtraLarge      269.637930   98.46\n",
      "Large           105.382826  137.67\n",
      "Small           108.606590  112.32\n",
      "             Sourcing Cost        \n",
      "                      mean  median\n",
      "Product Type                      \n",
      "Liquid           89.543608   66.33\n",
      "Powder          110.544056  137.67\n"
     ]
    }
   ],
   "metadata": {}
  },
  {
   "cell_type": "markdown",
   "source": [
    "# Assumption Testing on Second Random Month"
   ],
   "metadata": {}
  },
  {
   "cell_type": "code",
   "execution_count": 128,
   "source": [
    "print(assumption2_df.groupby([\"ProductType\"]).agg([\"mean\",\"median\"]))\r\n",
    "print(assumption2_df.groupby([\"Manufacturer\"]).agg([\"mean\",\"median\"]))\r\n",
    "print(assumption2_df.groupby([\"Sourcing Channel\"]).agg([\"mean\",\"median\"]))\r\n",
    "print(assumption2_df.groupby([\"Product Size\"]).agg([\"mean\",\"median\"]))\r\n",
    "print(assumption2_df.groupby([\"Product Type\"]).agg([\"mean\",\"median\"]))"
   ],
   "outputs": [
    {
     "output_type": "stream",
     "name": "stdout",
     "text": [
      "            Sourcing Cost        \n",
      "                     mean  median\n",
      "ProductType                      \n",
      "NTM1           110.003630  135.24\n",
      "NTM2           111.131014  121.49\n",
      "NTM3            52.003013   48.15\n",
      "             Sourcing Cost        \n",
      "                      mean  median\n",
      "Manufacturer                      \n",
      "X1              105.671439  133.30\n",
      "X2               67.445185   57.58\n",
      "X3               50.606837   50.62\n",
      "                 Sourcing Cost        \n",
      "                          mean  median\n",
      "Sourcing Channel                      \n",
      "DIRECT               97.077441  108.30\n",
      "ECOM                136.321975  135.23\n",
      "RETAIL               83.455607   64.35\n",
      "WHOLESALE            40.154292   30.88\n",
      "             Sourcing Cost        \n",
      "                      mean  median\n",
      "Product Size                      \n",
      "ExtraLarge       59.631026   57.00\n",
      "Large           101.401330  129.41\n",
      "Small            88.785832   96.16\n",
      "             Sourcing Cost        \n",
      "                      mean  median\n",
      "Product Type                      \n",
      "Liquid           76.546367   64.88\n",
      "Powder           98.635762  108.30\n"
     ]
    }
   ],
   "metadata": {}
  },
  {
   "cell_type": "markdown",
   "source": [
    "# Assumption Testing on Third Random Month"
   ],
   "metadata": {}
  },
  {
   "cell_type": "code",
   "execution_count": 129,
   "source": [
    "print(assumption3_df.groupby([\"ProductType\"]).agg([\"mean\",\"median\"]))\r\n",
    "print(assumption3_df.groupby([\"Manufacturer\"]).agg([\"mean\",\"median\"]))\r\n",
    "print(assumption3_df.groupby([\"Sourcing Channel\"]).agg([\"mean\",\"median\"]))\r\n",
    "print(assumption3_df.groupby([\"Product Size\"]).agg([\"mean\",\"median\"]))\r\n",
    "print(assumption3_df.groupby([\"Product Type\"]).agg([\"mean\",\"median\"]))"
   ],
   "outputs": [
    {
     "output_type": "stream",
     "name": "stdout",
     "text": [
      "            Sourcing Cost        \n",
      "                     mean  median\n",
      "ProductType                      \n",
      "NTM1           115.916773  144.10\n",
      "NTM2           129.583733  144.28\n",
      "NTM3            70.334422   64.33\n",
      "             Sourcing Cost        \n",
      "                      mean  median\n",
      "Manufacturer                      \n",
      "X1              127.465619  143.85\n",
      "X2               59.280326   27.35\n",
      "X3               55.755628   52.05\n",
      "                 Sourcing Cost        \n",
      "                          mean  median\n",
      "Sourcing Channel                      \n",
      "DIRECT              113.716258  142.13\n",
      "ECOM                147.628951  146.77\n",
      "RETAIL               84.970657   65.44\n",
      "WHOLESALE            55.175479   16.69\n",
      "             Sourcing Cost        \n",
      "                      mean  median\n",
      "Product Size                      \n",
      "ExtraLarge       83.483709   57.00\n",
      "Large           111.568684  143.13\n",
      "Small           115.494044  111.54\n",
      "             Sourcing Cost        \n",
      "                      mean  median\n",
      "Product Type                      \n",
      "Liquid           84.841952   66.28\n",
      "Powder          118.127867  142.13\n"
     ]
    }
   ],
   "metadata": {}
  },
  {
   "cell_type": "code",
   "execution_count": 130,
   "source": [
    "# merging the mean and median groupby for plotting and visualizing the difference in the mean and median for the 3 manufacturers (X1,X2 and X3)\r\n",
    "manufacturer_mean_df = assumption1_df.groupby(by=[\"Manufacturer\"]).mean().reset_index()\r\n",
    "manufacturer_mean_df = manufacturer_mean_df.rename(columns = {\"Sourcing Cost\": \"Mean Sourcing Cost\"})\r\n",
    "\r\n",
    "\r\n",
    "manufacturer_median_df = assumption1_df.groupby(by=[\"Manufacturer\"]).median().reset_index()\r\n",
    "manufacturer_median_df = manufacturer_median_df.rename(columns = {\"Sourcing Cost\": \"Median Sourcing Cost\"})\r\n",
    "\r\n",
    "manufacturer = pd.merge(manufacturer_mean_df, manufacturer_median_df, how='inner')\r\n",
    "manufacturer.plot.bar(x=\"Manufacturer\", rot=0)"
   ],
   "outputs": [
    {
     "output_type": "execute_result",
     "data": {
      "text/plain": [
       "<AxesSubplot:xlabel='Manufacturer'>"
      ]
     },
     "metadata": {},
     "execution_count": 130
    },
    {
     "output_type": "display_data",
     "data": {
      "text/plain": [
       "<Figure size 432x288 with 1 Axes>"
      ],
      "image/png": "[encoded data removed]"
     },
     "metadata": {
      "needs_background": "light"
     }
    }
   ],
   "metadata": {}
  },
  {
   "cell_type": "markdown",
   "source": [
    "# First Level Separation of the Dataset\r\n",
    "\r\n",
    "In all the 3 ***Month of Sourcing*** observations we can see that we can ***Manufacturer*** can provide a good separation in the ***Cost of Sourcing*** data. So the dataset is first split into ***x1_df***, ***x2_df*** and ***x3_df***. It is also presented visually in a bar plot showing the mean and median of the 3 different manufacturer. "
   ],
   "metadata": {}
  },
  {
   "cell_type": "code",
   "execution_count": 131,
   "source": [
    "list_of_manufacturer = list(training_df[\"Manufacturer\"].unique())\r\n",
    "print(list_of_manufacturer)"
   ],
   "outputs": [
    {
     "output_type": "stream",
     "name": "stdout",
     "text": [
      "['X1', 'X2', 'X3']\n"
     ]
    }
   ],
   "metadata": {}
  },
  {
   "cell_type": "code",
   "execution_count": 132,
   "source": [
    "# separation of the dataset based on manufacturers. \r\n",
    "\r\n",
    "x1_df = training_df[training_df[\"Manufacturer\"]==list_of_manufacturer[0]]\r\n",
    "x2_df = training_df[training_df[\"Manufacturer\"]==list_of_manufacturer[1]]\r\n",
    "x3_df = training_df[training_df[\"Manufacturer\"]==list_of_manufacturer[2]]\r\n",
    "\r\n",
    "print(\"Samples in X1 : \" + str(x1_df.shape))\r\n",
    "print(\"Samples in X2 : \" + str(x2_df.shape))\r\n",
    "print(\"Samples in X3 : \" + str(x3_df.shape))"
   ],
   "outputs": [
    {
     "output_type": "stream",
     "name": "stdout",
     "text": [
      "Samples in X1 : (419857, 8)\n",
      "Samples in X2 : (120695, 8)\n",
      "Samples in X3 : (9624, 8)\n"
     ]
    }
   ],
   "metadata": {}
  },
  {
   "cell_type": "markdown",
   "source": [
    "## Checking the change in Descriptive Statistics after the split"
   ],
   "metadata": {}
  },
  {
   "cell_type": "code",
   "execution_count": 133,
   "source": [
    "# Descriptive Statistics of Manufacturer X1\r\n",
    "print(x1_df[x1_df[\"Month of Sourcing\"] == x1_df[\"Month of Sourcing\"].unique()[4]].groupby([\"ProductType\"]).agg([\"mean\",\"median\"]))\r\n",
    "print(x1_df[x1_df[\"Month of Sourcing\"] == x1_df[\"Month of Sourcing\"].unique()[4]].groupby([\"Sourcing Channel\"]).agg([\"mean\",\"median\"]))\r\n",
    "print(x1_df[x1_df[\"Month of Sourcing\"] == x1_df[\"Month of Sourcing\"].unique()[4]].groupby([\"Product Size\"]).agg([\"mean\",\"median\"]))\r\n",
    "print(x1_df[x1_df[\"Month of Sourcing\"] == x1_df[\"Month of Sourcing\"].unique()[4]].groupby([\"Product Type\"]).agg([\"mean\",\"median\"]))"
   ],
   "outputs": [
    {
     "output_type": "stream",
     "name": "stdout",
     "text": [
      "            Sourcing Cost        \n",
      "                     mean  median\n",
      "ProductType                      \n",
      "NTM1           130.682735  138.13\n",
      "NTM2           129.600039  135.86\n",
      "NTM3            52.084133   48.15\n",
      "                 Sourcing Cost        \n",
      "                          mean  median\n",
      "Sourcing Channel                      \n",
      "DIRECT              103.544479  133.62\n",
      "ECOM                136.321975  135.23\n",
      "RETAIL              144.976729  128.70\n",
      "WHOLESALE            40.154292   30.88\n",
      "             Sourcing Cost        \n",
      "                      mean  median\n",
      "Product Size                      \n",
      "ExtraLarge       59.631026   57.00\n",
      "Large           123.272129  135.98\n",
      "Small            85.954793   96.16\n",
      "             Sourcing Cost        \n",
      "                      mean  median\n",
      "Product Type                      \n",
      "Liquid           92.091683   65.27\n",
      "Powder          107.676890  133.62\n"
     ]
    }
   ],
   "metadata": {}
  },
  {
   "cell_type": "code",
   "execution_count": 134,
   "source": [
    "# Descriptive Statistics of Manufacturer X2\r\n",
    "print(x2_df[x2_df[\"Month of Sourcing\"] == x2_df[\"Month of Sourcing\"].unique()[4]].groupby([\"ProductType\"]).agg([\"mean\",\"median\"]))\r\n",
    "print(x2_df[x2_df[\"Month of Sourcing\"] == x2_df[\"Month of Sourcing\"].unique()[4]].groupby([\"Sourcing Channel\"]).agg([\"mean\",\"median\"]))\r\n",
    "print(x2_df[x2_df[\"Month of Sourcing\"] == x2_df[\"Month of Sourcing\"].unique()[4]].groupby([\"Product Size\"]).agg([\"mean\",\"median\"]))\r\n",
    "print(x2_df[x2_df[\"Month of Sourcing\"] == x2_df[\"Month of Sourcing\"].unique()[4]].groupby([\"Product Type\"]).agg([\"mean\",\"median\"]))"
   ],
   "outputs": [
    {
     "output_type": "stream",
     "name": "stdout",
     "text": [
      "            Sourcing Cost       \n",
      "                     mean median\n",
      "ProductType                     \n",
      "NTM1            63.591404  36.87\n",
      "NTM2            59.290825  43.52\n",
      "NTM3            62.107778  19.18\n",
      "                 Sourcing Cost       \n",
      "                          mean median\n",
      "Sourcing Channel                     \n",
      "DIRECT               68.878670  74.77\n",
      "RETAIL               36.527119  30.53\n",
      "             Sourcing Cost       \n",
      "                      mean median\n",
      "Product Size                     \n",
      "Large            51.575710  30.06\n",
      "Small            92.346234  76.37\n",
      "             Sourcing Cost       \n",
      "                      mean median\n",
      "Product Type                     \n",
      "Liquid           25.137177  24.29\n",
      "Powder           68.171675  68.00\n"
     ]
    }
   ],
   "metadata": {}
  },
  {
   "cell_type": "code",
   "execution_count": 135,
   "source": [
    "# Descriptive Statistics of Manufacturer X3\r\n",
    "print(x3_df[x3_df[\"Month of Sourcing\"] == x3_df[\"Month of Sourcing\"].unique()[4]].groupby([\"ProductType\"]).agg([\"mean\",\"median\"]))\r\n",
    "print(x3_df[x3_df[\"Month of Sourcing\"] == x3_df[\"Month of Sourcing\"].unique()[4]].groupby([\"Sourcing Channel\"]).agg([\"mean\",\"median\"]))\r\n",
    "print(x3_df[x3_df[\"Month of Sourcing\"] == x3_df[\"Month of Sourcing\"].unique()[4]].groupby([\"Product Size\"]).agg([\"mean\",\"median\"]))\r\n",
    "print(x3_df[x3_df[\"Month of Sourcing\"] == x3_df[\"Month of Sourcing\"].unique()[4]].groupby([\"Product Type\"]).agg([\"mean\",\"median\"]))"
   ],
   "outputs": [
    {
     "output_type": "stream",
     "name": "stdout",
     "text": [
      "            Sourcing Cost       \n",
      "                     mean median\n",
      "ProductType                     \n",
      "NTM3            42.562282   46.8\n",
      "                 Sourcing Cost       \n",
      "                          mean median\n",
      "Sourcing Channel                     \n",
      "RETAIL               42.562282   46.8\n",
      "             Sourcing Cost       \n",
      "                      mean median\n",
      "Product Size                     \n",
      "Large            42.562282   46.8\n",
      "             Sourcing Cost       \n",
      "                      mean median\n",
      "Product Type                     \n",
      "Powder           42.562282   46.8\n"
     ]
    }
   ],
   "metadata": {}
  },
  {
   "cell_type": "markdown",
   "source": [
    "## First Separation Result \r\n",
    "\r\n",
    "We can already see that ***x3_df*** separates out perfectly based on 1 split, this data will be used to train a model which will predict the ***Month of Sourcing*** when the ***Manufacturer*** = ***X3***. In the rest of the data, we see that for all the groupby the max and minimum mean has come closer. Wherever it is relatively, high we will use to further split the data "
   ],
   "metadata": {}
  },
  {
   "cell_type": "markdown",
   "source": [
    "# Second Level Separation of the Dataset "
   ],
   "metadata": {}
  },
  {
   "cell_type": "markdown",
   "source": [
    "Based on the descriptive statistics obtained after the split for the 3 dataset, \r\n",
    "\r\n",
    "For, \r\n",
    "***Manufacturer*** = ***X1*** we see that ***Product Size*** shows variation so we can split it further based on ***Product Size***, into ***X1_Large***, ***X1_ExtraLarge*** and ***X1_Small***\r\n",
    "\r\n",
    "For, \r\n",
    "***Manufacturer*** = ***X2*** we see that ***Product Type*** shows variation so we can split it further based on ***Product Type***, into ***X2_Liquid*** and ***X2_Powder***"
   ],
   "metadata": {}
  },
  {
   "cell_type": "markdown",
   "source": [
    "## For Manufacturer X1"
   ],
   "metadata": {}
  },
  {
   "cell_type": "code",
   "execution_count": 136,
   "source": [
    "# For manufacturer X1, the dataset is split on the basis of Product Size\r\n",
    "x1_extralarge = x1_df[x1_df[\"Product Size\"] == \"ExtraLarge\"]\r\n",
    "x1_large = x1_df[x1_df[\"Product Size\"] == \"Large\"]\r\n",
    "x1_small = x1_df[x1_df[\"Product Size\"] == \"Small\"]"
   ],
   "outputs": [],
   "metadata": {}
  },
  {
   "cell_type": "markdown",
   "source": [
    "## Checking the change in Descriptive Statistics after Split\r\n"
   ],
   "metadata": {}
  },
  {
   "cell_type": "code",
   "execution_count": 137,
   "source": [
    "# Descriptive Statistics for data when Manufacturer = X1 and Product Size = ExtraLarge\r\n",
    "print(x1_extralarge[x1_extralarge[\"Month of Sourcing\"] == x1_extralarge[\"Month of Sourcing\"].unique()[4]].groupby([\"ProductType\"]).agg([\"mean\",\"median\"]))\r\n",
    "print(x1_extralarge[x1_extralarge[\"Month of Sourcing\"] == x1_extralarge[\"Month of Sourcing\"].unique()[4]].groupby([\"Sourcing Channel\"]).agg([\"mean\",\"median\"]))\r\n",
    "print(x1_extralarge[x1_extralarge[\"Month of Sourcing\"] == x1_extralarge[\"Month of Sourcing\"].unique()[4]].groupby([\"Product Type\"]).agg([\"mean\",\"median\"]))"
   ],
   "outputs": [
    {
     "output_type": "stream",
     "name": "stdout",
     "text": [
      "            Sourcing Cost       \n",
      "                     mean median\n",
      "ProductType                     \n",
      "NTM3            65.866667   57.0\n",
      "                 Sourcing Cost       \n",
      "                          mean median\n",
      "Sourcing Channel                     \n",
      "DIRECT               65.866667   57.0\n",
      "             Sourcing Cost       \n",
      "                      mean median\n",
      "Product Type                     \n",
      "Powder           65.866667   57.0\n"
     ]
    }
   ],
   "metadata": {}
  },
  {
   "cell_type": "code",
   "execution_count": 138,
   "source": [
    "# Descriptive Statistics for data when Manufacturer = X1 and Product Size = Large\r\n",
    "print(x1_large[x1_large[\"Month of Sourcing\"] == x1_large[\"Month of Sourcing\"].unique()[4]].groupby([\"ProductType\"]).agg([\"mean\",\"median\"]))\r\n",
    "print(x1_large[x1_large[\"Month of Sourcing\"] == x1_large[\"Month of Sourcing\"].unique()[4]].groupby([\"Sourcing Channel\"]).agg([\"mean\",\"median\"]))\r\n",
    "print(x1_large[x1_large[\"Month of Sourcing\"] == x1_large[\"Month of Sourcing\"].unique()[4]].groupby([\"Product Type\"]).agg([\"mean\",\"median\"]))"
   ],
   "outputs": [
    {
     "output_type": "stream",
     "name": "stdout",
     "text": [
      "            Sourcing Cost        \n",
      "                     mean  median\n",
      "ProductType                      \n",
      "NTM1           150.580802  146.61\n",
      "NTM2           156.798970  147.87\n",
      "NTM3            73.032145   66.56\n",
      "                 Sourcing Cost        \n",
      "                          mean  median\n",
      "Sourcing Channel                      \n",
      "DIRECT              131.067226  143.88\n",
      "ECOM                140.854329  142.76\n",
      "RETAIL              142.338997  128.69\n",
      "WHOLESALE            23.788352    4.81\n",
      "             Sourcing Cost        \n",
      "                      mean  median\n",
      "Product Type                      \n",
      "Liquid          123.986078  144.57\n",
      "Powder          134.986437  142.91\n"
     ]
    }
   ],
   "metadata": {}
  },
  {
   "cell_type": "code",
   "execution_count": 139,
   "source": [
    "# Descriptive Statistics for data when Manufacturer = X1 and Product Size = Small\r\n",
    "print(x1_small[x1_small[\"Month of Sourcing\"] == x1_small[\"Month of Sourcing\"].unique()[4]].groupby([\"ProductType\"]).agg([\"mean\",\"median\"]))\r\n",
    "print(x1_small[x1_small[\"Month of Sourcing\"] == x1_small[\"Month of Sourcing\"].unique()[4]].groupby([\"Sourcing Channel\"]).agg([\"mean\",\"median\"]))\r\n",
    "print(x1_small[x1_small[\"Month of Sourcing\"] == x1_small[\"Month of Sourcing\"].unique()[4]].groupby([\"Product Type\"]).agg([\"mean\",\"median\"]))"
   ],
   "outputs": [
    {
     "output_type": "stream",
     "name": "stdout",
     "text": [
      "            Sourcing Cost        \n",
      "                     mean  median\n",
      "ProductType                      \n",
      "NTM1            98.796100  104.10\n",
      "NTM2           116.895193  133.58\n",
      "NTM3            58.484154   54.55\n",
      "                 Sourcing Cost        \n",
      "                          mean  median\n",
      "Sourcing Channel                      \n",
      "DIRECT               95.419295   96.40\n",
      "ECOM                136.617905  136.02\n",
      "RETAIL               65.732996   64.35\n",
      "WHOLESALE           104.525143  104.90\n",
      "             Sourcing Cost       \n",
      "                      mean median\n",
      "Product Type                     \n",
      "Liquid           82.053735  65.16\n",
      "Powder           95.488543  97.13\n"
     ]
    }
   ],
   "metadata": {}
  },
  {
   "cell_type": "markdown",
   "source": [
    "## For manufacturer X2"
   ],
   "metadata": {}
  },
  {
   "cell_type": "code",
   "execution_count": 140,
   "source": [
    "# For manufacturer X2, the dataset is split on the basis of Product Type\r\n",
    "x2_liquid = x2_df[x2_df[\"Product Type\"] == \"Liquid\"]\r\n",
    "x2_powder = x2_df[x2_df[\"Product Type\"] == \"Powder\"]"
   ],
   "outputs": [],
   "metadata": {}
  },
  {
   "cell_type": "markdown",
   "source": [
    "## Checking the change in Descriptive Statistics after Split"
   ],
   "metadata": {}
  },
  {
   "cell_type": "code",
   "execution_count": 141,
   "source": [
    "# Descriptive Statistics for data when Manufacturer = X2 and Product Type = Liquid\r\n",
    "print(x2_liquid[x2_liquid[\"Month of Sourcing\"] == x2_liquid[\"Month of Sourcing\"].unique()[4]].groupby([\"ProductType\"]).agg([\"mean\",\"median\"]))\r\n",
    "print(x2_liquid[x2_liquid[\"Month of Sourcing\"] == x2_liquid[\"Month of Sourcing\"].unique()[4]].groupby([\"Sourcing Channel\"]).agg([\"mean\",\"median\"]))\r\n",
    "print(x2_liquid[x2_liquid[\"Month of Sourcing\"] == x2_liquid[\"Month of Sourcing\"].unique()[4]].groupby([\"Product Size\"]).agg([\"mean\",\"median\"]))"
   ],
   "outputs": [
    {
     "output_type": "stream",
     "name": "stdout",
     "text": [
      "            Sourcing Cost       \n",
      "                     mean median\n",
      "ProductType                     \n",
      "NTM1            25.137177  24.29\n",
      "                 Sourcing Cost       \n",
      "                          mean median\n",
      "Sourcing Channel                     \n",
      "DIRECT               25.137177  24.29\n",
      "             Sourcing Cost       \n",
      "                      mean median\n",
      "Product Size                     \n",
      "Large            25.137177  24.29\n"
     ]
    }
   ],
   "metadata": {}
  },
  {
   "cell_type": "code",
   "execution_count": 142,
   "source": [
    "# Descriptive Statistics for data when Manufacturer = X2 and Product Type = Powder\r\n",
    "print(x2_powder[x2_powder[\"Month of Sourcing\"] == x2_powder[\"Month of Sourcing\"].unique()[4]].groupby([\"ProductType\"]).agg([\"mean\",\"median\"]))\r\n",
    "print(x2_powder[x2_powder[\"Month of Sourcing\"] == x2_powder[\"Month of Sourcing\"].unique()[4]].groupby([\"Sourcing Channel\"]).agg([\"mean\",\"median\"]))\r\n",
    "print(x2_powder[x2_powder[\"Month of Sourcing\"] == x2_powder[\"Month of Sourcing\"].unique()[4]].groupby([\"Product Size\"]).agg([\"mean\",\"median\"]))"
   ],
   "outputs": [
    {
     "output_type": "stream",
     "name": "stdout",
     "text": [
      "            Sourcing Cost       \n",
      "                     mean median\n",
      "ProductType                     \n",
      "NTM1            81.652545  74.78\n",
      "NTM2            59.290825  43.52\n",
      "NTM3            62.107778  19.18\n",
      "                 Sourcing Cost       \n",
      "                          mean median\n",
      "Sourcing Channel                     \n",
      "DIRECT               80.067201  76.79\n",
      "RETAIL               36.527119  30.53\n",
      "             Sourcing Cost       \n",
      "                      mean median\n",
      "Product Size                     \n",
      "Large            58.464378  36.87\n",
      "Small            92.346234  76.37\n"
     ]
    }
   ],
   "metadata": {}
  },
  {
   "cell_type": "markdown",
   "source": [
    "## Second Separation Result \r\n",
    "\r\n",
    "For,\r\n",
    "Manufacturer ***X1***, Splitting on the basis of ***Product Size*** yields ***X1_ExtraLarge*** data which is separted completely, the rest needs another level of seperation to make sure the mean are close enough to be handled by a single model. \r\n",
    "\r\n",
    "For,\r\n",
    "Manufacturer ***X2***, Splitting on the basis of ***Product Type*** yields ***X2_Liquid*** data which is separted completely, the rest needs another level of seperation to make sure the mean are close enough to be handled by a single model. "
   ],
   "metadata": {}
  },
  {
   "cell_type": "markdown",
   "source": [
    "# Third Level Separation of the Dataset\r\n"
   ],
   "metadata": {}
  },
  {
   "cell_type": "markdown",
   "source": [
    "For,\r\n",
    "***Manufacturer*** = ***X1*** and ***Product Size*** = ***Large***, the data is further split on the basis of ***Sourcing Channel***\r\n",
    "\r\n",
    "For,\r\n",
    "***Manufacturer*** = ***X1*** and ***Product Size*** = ***Small***, the data is further split on the basis of ***Product Type***\r\n",
    "\r\n",
    "For,\r\n",
    "***Manufacturer*** = ***X2*** and ***Product Type*** = ***Powder***, the data is further split on the basis of ***Sourcing Channel***\r\n",
    "\r\n"
   ],
   "metadata": {}
  },
  {
   "cell_type": "markdown",
   "source": [
    "## For Manufacturer X1 and Product Size Large"
   ],
   "metadata": {}
  },
  {
   "cell_type": "code",
   "execution_count": 143,
   "source": [
    "# for manufacturer x1 and product type large, the dataset is further split based on sourcing channel [WHOLESALE and Others (RETAIL,DIRECT,ECOM)] based on the descriptive statistics\r\n",
    "x1_large_other_channel  = x1_large[(x1_large[\"Sourcing Channel\"] == \"DIRECT\") | (x1_large[\"Sourcing Channel\"] == \"RETAIL\") | (x1_large[\"Sourcing Channel\"] == \"ECOM\")]\r\n",
    "x1_large_wholesale = x1_large[x1_large[\"Sourcing Channel\"] == \"WHOLESALE\"]"
   ],
   "outputs": [],
   "metadata": {}
  },
  {
   "cell_type": "markdown",
   "source": [
    "## Checking Descriptive Statistics after Split"
   ],
   "metadata": {}
  },
  {
   "cell_type": "code",
   "execution_count": 144,
   "source": [
    "# Descriptive Statistics when manufacturer is x1, product size is large and sourcing channel is other channel (RETAIL, ECOM, DIRECT)\r\n",
    "print(x1_large_other_channel[x1_large_other_channel[\"Month of Sourcing\"] == x1_large_other_channel[\"Month of Sourcing\"].unique()[4]].groupby([\"ProductType\"]).agg([\"mean\",\"median\"]))\r\n",
    "print(x1_large_other_channel[x1_large_other_channel[\"Month of Sourcing\"] == x1_large_other_channel[\"Month of Sourcing\"].unique()[4]].groupby([\"Product Type\"]).agg([\"mean\",\"median\"]))"
   ],
   "outputs": [
    {
     "output_type": "stream",
     "name": "stdout",
     "text": [
      "            Sourcing Cost        \n",
      "                     mean  median\n",
      "ProductType                      \n",
      "NTM1           148.090193  148.41\n",
      "NTM2           146.121239  148.41\n",
      "NTM3            88.285944  118.49\n",
      "             Sourcing Cost        \n",
      "                      mean  median\n",
      "Product Type                      \n",
      "Liquid          140.305568  149.72\n",
      "Powder          130.630693  143.92\n"
     ]
    }
   ],
   "metadata": {}
  },
  {
   "cell_type": "code",
   "execution_count": 145,
   "source": [
    "# Descriptive Statistics when manufacturer is x1, product size is large and sourcing channel is WHOLESALE\r\n",
    "print(x1_large_wholesale[x1_large_wholesale[\"Month of Sourcing\"] == x1_large_wholesale[\"Month of Sourcing\"].unique()[4]].groupby([\"ProductType\"]).agg([\"mean\",\"median\"]))\r\n",
    "print(x1_large_wholesale[x1_large_wholesale[\"Month of Sourcing\"] == x1_large_wholesale[\"Month of Sourcing\"].unique()[4]].groupby([\"Product Type\"]).agg([\"mean\",\"median\"]))"
   ],
   "outputs": [
    {
     "output_type": "stream",
     "name": "stdout",
     "text": [
      "            Sourcing Cost       \n",
      "                     mean median\n",
      "ProductType                     \n",
      "NTM3            14.747134   10.5\n",
      "             Sourcing Cost       \n",
      "                      mean median\n",
      "Product Type                     \n",
      "Powder           14.747134   10.5\n"
     ]
    }
   ],
   "metadata": {}
  },
  {
   "cell_type": "markdown",
   "source": [
    "# For Manufacturer X1 and Product Size Small"
   ],
   "metadata": {}
  },
  {
   "cell_type": "code",
   "execution_count": 146,
   "source": [
    "# for manufacturer x1 and product size small, the dataset is further split based on Product Type based on the descriptive statistics\r\n",
    "x1_small_powder = x1_small[x1_small[\"Product Type\"] == \"Powder\"]\r\n",
    "x1_small_liquid = x1_small[x1_small[\"Product Type\"] == \"Liquid\"]"
   ],
   "outputs": [],
   "metadata": {}
  },
  {
   "cell_type": "markdown",
   "source": [
    "## Checking Descriptive Statistics after Split"
   ],
   "metadata": {}
  },
  {
   "cell_type": "code",
   "execution_count": 147,
   "source": [
    "# Descriptive statistics when manufacturer x1, product size small and product type powder\r\n",
    "print(x1_small_powder[x1_small_powder[\"Month of Sourcing\"] == x1_small_powder[\"Month of Sourcing\"].unique()[4]].groupby([\"ProductType\"]).agg([\"mean\",\"median\"]))\r\n",
    "print(x1_small_powder[x1_small_powder[\"Month of Sourcing\"] == x1_small_powder[\"Month of Sourcing\"].unique()[4]].groupby([\"Sourcing Channel\"]).agg([\"mean\",\"median\"]))"
   ],
   "outputs": [
    {
     "output_type": "stream",
     "name": "stdout",
     "text": [
      "            Sourcing Cost        \n",
      "                     mean  median\n",
      "ProductType                      \n",
      "NTM1            98.796100  104.10\n",
      "NTM2           116.895193  133.58\n",
      "NTM3            49.063970   51.26\n",
      "                 Sourcing Cost        \n",
      "                          mean  median\n",
      "Sourcing Channel                      \n",
      "DIRECT               96.956355   97.33\n",
      "ECOM                136.617905  136.02\n",
      "RETAIL               65.732996   64.35\n",
      "WHOLESALE           104.525143  104.90\n"
     ]
    }
   ],
   "metadata": {}
  },
  {
   "cell_type": "code",
   "execution_count": 148,
   "source": [
    "# Descriptive statistics when manufacturer x1, product size small and product type liquid\r\n",
    "print(x1_small_liquid[x1_small_liquid[\"Month of Sourcing\"] == x1_small_liquid[\"Month of Sourcing\"].unique()[4]].groupby([\"ProductType\"]).agg([\"mean\",\"median\"]))\r\n",
    "print(x1_small_liquid[x1_small_liquid[\"Month of Sourcing\"] == x1_small_liquid[\"Month of Sourcing\"].unique()[4]].groupby([\"Sourcing Channel\"]).agg([\"mean\",\"median\"]))"
   ],
   "outputs": [
    {
     "output_type": "stream",
     "name": "stdout",
     "text": [
      "            Sourcing Cost       \n",
      "                     mean median\n",
      "ProductType                     \n",
      "NTM3           102.432623  66.54\n",
      "                 Sourcing Cost       \n",
      "                          mean median\n",
      "Sourcing Channel                     \n",
      "DIRECT              102.432623  66.54\n"
     ]
    }
   ],
   "metadata": {}
  },
  {
   "cell_type": "markdown",
   "source": [
    "# For Manufacturer X2 and Product Type Powder"
   ],
   "metadata": {}
  },
  {
   "cell_type": "code",
   "execution_count": 149,
   "source": [
    "# for manufacturer x2 and product type powder, the dataset is further split based on Sourcing Channel based on the descriptive statistic\r\n",
    "x2_powder_direct = x2_powder[x2_powder[\"Sourcing Channel\"] == \"DIRECT\"]\r\n",
    "x2_powder_retail = x2_powder[x2_powder[\"Sourcing Channel\"] == \"RETAIL\"]"
   ],
   "outputs": [],
   "metadata": {}
  },
  {
   "cell_type": "markdown",
   "source": [
    "## Checking Descriptive Statistics after Split "
   ],
   "metadata": {}
  },
  {
   "cell_type": "code",
   "execution_count": 150,
   "source": [
    "# Descriptive statistics when manufacturer x2, product type powder and sourcing channel direct\r\n",
    "print(x2_powder_direct[x2_powder_direct[\"Month of Sourcing\"] == x2_powder_direct[\"Month of Sourcing\"].unique()[4]].groupby([\"ProductType\"]).agg([\"mean\",\"median\"]))\r\n",
    "print(x2_powder_direct[x2_powder_direct[\"Month of Sourcing\"] == x2_powder_direct[\"Month of Sourcing\"].unique()[4]].groupby([\"Product Size\"]).agg([\"mean\",\"median\"]))"
   ],
   "outputs": [
    {
     "output_type": "stream",
     "name": "stdout",
     "text": [
      "            Sourcing Cost        \n",
      "                     mean  median\n",
      "ProductType                      \n",
      "NTM1           123.812972  167.31\n",
      "NTM2            44.160118   26.55\n",
      "NTM3            53.008412   49.02\n",
      "             Sourcing Cost        \n",
      "                      mean  median\n",
      "Product Size                      \n",
      "Large            64.066561   33.33\n",
      "Small           136.966727  167.38\n"
     ]
    }
   ],
   "metadata": {}
  },
  {
   "cell_type": "code",
   "execution_count": 151,
   "source": [
    "# Descriptive statistics when manufacturer x2, product type powder and sourcing channel retail\r\n",
    "print(x2_powder_retail[x2_powder_retail[\"Month of Sourcing\"] == x2_powder_retail[\"Month of Sourcing\"].unique()[4]].groupby([\"ProductType\"]).agg([\"mean\",\"median\"]))\r\n",
    "print(x2_powder_retail[x2_powder_retail[\"Month of Sourcing\"] == x2_powder_retail[\"Month of Sourcing\"].unique()[4]].groupby([\"Product Size\"]).agg([\"mean\",\"median\"]))"
   ],
   "outputs": [
    {
     "output_type": "stream",
     "name": "stdout",
     "text": [
      "            Sourcing Cost       \n",
      "                     mean median\n",
      "ProductType                     \n",
      "NTM1            45.513750  35.89\n",
      "NTM2            72.133797  63.84\n",
      "             Sourcing Cost       \n",
      "                      mean median\n",
      "Product Size                     \n",
      "Large            74.959034  70.00\n",
      "Small            51.356259  63.84\n"
     ]
    }
   ],
   "metadata": {}
  },
  {
   "cell_type": "markdown",
   "source": [
    "# Data Splitting Schema\r\n",
    "\r\n",
    "![title](model_data_split.png)"
   ],
   "metadata": {}
  },
  {
   "cell_type": "markdown",
   "source": [
    "The data has been split up into 9 sub section and therefore we have to create 9 models. It is a significant reduction from the minimum 45 models needed. This method has an added advantage as this method is scalable even when the ***Area Code*** being served scales up."
   ],
   "metadata": {}
  },
  {
   "cell_type": "markdown",
   "source": [
    "# Outlier Removal and Data Preparation for Time Series Forecasting Modeling\r\n",
    "\r\n",
    "Before creating the model we should remove outliers from the data"
   ],
   "metadata": {}
  },
  {
   "cell_type": "code",
   "execution_count": 152,
   "source": [
    "# function which removes outlier for every month (as the quantum of time is month in the dataset) for a given dataset.\r\n",
    "# This function only retains the midspread data (data lying in the inter quartile region for a particular month)\r\n",
    "\r\n",
    "from scipy import stats\r\n",
    "\r\n",
    "def outlier_removal(subset_df,empty_df):\r\n",
    "\r\n",
    "    list_of_months = list(subset_df[\"Month of Sourcing\"].unique())\r\n",
    "\r\n",
    "    for month in list_of_months:\r\n",
    "        sample_df = subset_df[subset_df[\"Month of Sourcing\"] == month]\r\n",
    "        Q1 = sample_df[\"Sourcing Cost\"].quantile(0.25)\r\n",
    "        Q3 = sample_df[\"Sourcing Cost\"].quantile(0.75)\r\n",
    "        IQR = Q3 - Q1\r\n",
    "        sample_df = sample_df[~((sample_df[\"Sourcing Cost\"] < (Q1 - 1.5 * IQR)) |(sample_df[\"Sourcing Cost\"] > (Q3 + 1.5 * IQR)))]\r\n",
    "        sample_df = sample_df[[\"Month of Sourcing\",\"Sourcing Cost\"]]\r\n",
    "        empty_df = empty_df.append(sample_df, ignore_index=True)\r\n",
    "\r\n",
    "    return empty_df"
   ],
   "outputs": [],
   "metadata": {}
  },
  {
   "cell_type": "code",
   "execution_count": 153,
   "source": [
    "# Outlier removal and .csv creation of data when manufactuter is X3\r\n",
    "x3_outlier_removed_df = pd.DataFrame(columns = [\"Month of Sourcing\", \"Sourcing Cost\"])\r\n",
    "x3_outlier_removed_df = outlier_removal(x3_df,x3_outlier_removed_df)\r\n",
    "x3_outlier_removed_df.to_csv(\"x3_outlier_removed_df.csv\", index= False)\r\n",
    "print(x3_df.shape)\r\n",
    "print(x3_outlier_removed_df.shape)"
   ],
   "outputs": [
    {
     "output_type": "stream",
     "name": "stdout",
     "text": [
      "(9624, 8)\n",
      "(8706, 2)\n"
     ]
    }
   ],
   "metadata": {}
  },
  {
   "cell_type": "code",
   "execution_count": 154,
   "source": [
    "# Outlier removal and .csv creation of data when manufactuter is X1 and Product Size is Extra Large\r\n",
    "x1_extralarge_outlier_removed_df = pd.DataFrame(columns = [\"Month of Sourcing\", \"Sourcing Cost\"])\r\n",
    "x1_extralarge_outlier_removed_df = outlier_removal(x1_extralarge,x1_extralarge_outlier_removed_df)\r\n",
    "x1_extralarge_outlier_removed_df.to_csv(\"x1_extralarge_outlier_removed_df.csv\", index= False)\r\n",
    "\r\n",
    "print(x1_extralarge.shape)\r\n",
    "print(x1_extralarge_outlier_removed_df.shape)"
   ],
   "outputs": [
    {
     "output_type": "stream",
     "name": "stdout",
     "text": [
      "(4148, 8)\n",
      "(3748, 2)\n"
     ]
    }
   ],
   "metadata": {}
  },
  {
   "cell_type": "code",
   "execution_count": 155,
   "source": [
    "# Outlier removal and .csv creation of data when manufactuter is X1 and Product Size is Large and Sourcing Channel is Others (RETAIL,ECOM,DIRECT)\r\n",
    "x1_large_oth_channel_outlier_removed_df = pd.DataFrame(columns = [\"Month of Sourcing\", \"Sourcing Cost\"])\r\n",
    "x1_large_oth_channel_outlier_removed_df = outlier_removal(x1_large_other_channel,x1_large_oth_channel_outlier_removed_df)\r\n",
    "x1_large_oth_channel_outlier_removed_df.to_csv(\"x1_large_oth_channel_outlier_removed_df.csv\",index= False)\r\n",
    "\r\n",
    "print(x1_large_other_channel.shape)\r\n",
    "print(x1_large_oth_channel_outlier_removed_df.shape)"
   ],
   "outputs": [
    {
     "output_type": "stream",
     "name": "stdout",
     "text": [
      "(231591, 8)\n",
      "(165237, 2)\n"
     ]
    }
   ],
   "metadata": {}
  },
  {
   "cell_type": "code",
   "execution_count": 156,
   "source": [
    "# Outlier removal and .csv creation of data when manufactuter is X1 and Product Size is Large and Sourcing Channel is WHOLESALE\r\n",
    "x1_large_wholesale_outlier_removed_df = pd.DataFrame(columns = [\"Month of Sourcing\", \"Sourcing Cost\"])\r\n",
    "x1_large_wholesale_outlier_removed_df = outlier_removal(x1_large_wholesale,x1_large_wholesale_outlier_removed_df)\r\n",
    "x1_large_wholesale_outlier_removed_df.to_csv(\"x1_large_wholesale_outlier_removed_df.csv\", index= False)\r\n",
    "\r\n",
    "print(x1_large_wholesale.shape)\r\n",
    "print(x1_large_wholesale_outlier_removed_df.shape)"
   ],
   "outputs": [
    {
     "output_type": "stream",
     "name": "stdout",
     "text": [
      "(1448, 8)\n",
      "(1340, 2)\n"
     ]
    }
   ],
   "metadata": {}
  },
  {
   "cell_type": "code",
   "execution_count": 157,
   "source": [
    "# Outlier removal and .csv creation of data when manufactuter is X1 and Product Size is Small and Product Type is Liquid\r\n",
    "x1_small_liquid_outlier_removed_df = pd.DataFrame(columns = [\"Month of Sourcing\", \"Sourcing Cost\"])\r\n",
    "x1_small_liquid_outlier_removed_df = outlier_removal(x1_small_liquid,x1_small_liquid_outlier_removed_df)\r\n",
    "x1_small_liquid_outlier_removed_df.to_csv(\"x1_small_liquid_outlier_removed_df.csv\", index= False)\r\n",
    "\r\n",
    "print(x1_small_liquid.shape)\r\n",
    "print(x1_small_liquid_outlier_removed_df.shape)"
   ],
   "outputs": [
    {
     "output_type": "stream",
     "name": "stdout",
     "text": [
      "(15385, 8)\n",
      "(12894, 2)\n"
     ]
    }
   ],
   "metadata": {}
  },
  {
   "cell_type": "code",
   "execution_count": 158,
   "source": [
    "# Outlier removal and .csv creation of data when manufactuter is X1 and Product Size is Small and Product Type is Powder\r\n",
    "x1_small_powder_outlier_removed_df = pd.DataFrame(columns = [\"Month of Sourcing\", \"Sourcing Cost\"])\r\n",
    "x1_small_powder_outlier_removed_df = outlier_removal(x1_small_powder,x1_small_powder_outlier_removed_df)\r\n",
    "x1_small_powder_outlier_removed_df.to_csv(\"x1_small_powder_outlier_removed_df.csv\", index= False)\r\n",
    "\r\n",
    "print(x1_small_powder.shape)\r\n",
    "print(x1_small_powder_outlier_removed_df.shape)"
   ],
   "outputs": [
    {
     "output_type": "stream",
     "name": "stdout",
     "text": [
      "(167285, 8)\n",
      "(162485, 2)\n"
     ]
    }
   ],
   "metadata": {}
  },
  {
   "cell_type": "code",
   "execution_count": 159,
   "source": [
    "# Outlier removal and .csv creation of data when manufactuter is X2 and Product Type is Liquid\r\n",
    "x2_liquid_outlier_removed_df = pd.DataFrame(columns = [\"Month of Sourcing\", \"Sourcing Cost\"])\r\n",
    "x2_liquid_outlier_removed_df = outlier_removal(x2_liquid,x2_liquid_outlier_removed_df)\r\n",
    "x2_liquid_outlier_removed_df.to_csv(\"x2_liquid_outlier_removed_df.csv\", index= False)\r\n",
    "\r\n",
    "print(x2_liquid.shape)\r\n",
    "print(x2_liquid_outlier_removed_df.shape)"
   ],
   "outputs": [
    {
     "output_type": "stream",
     "name": "stdout",
     "text": [
      "(19055, 8)\n",
      "(13162, 2)\n"
     ]
    }
   ],
   "metadata": {}
  },
  {
   "cell_type": "code",
   "execution_count": 160,
   "source": [
    "# Outlier removal and .csv creation of data when manufactuter is X2 and Product Type is Powder and Sourcing Channel in DIRECT\r\n",
    "x2_powder_direct_outlier_removed_df = pd.DataFrame(columns = [\"Month of Sourcing\", \"Sourcing Cost\"])\r\n",
    "x2_powder_direct_outlier_removed_df = outlier_removal(x2_powder_direct,x2_powder_direct_outlier_removed_df)\r\n",
    "x2_powder_direct_outlier_removed_df.to_csv(\"x2_powder_direct_outlier_removed_df.csv\", index= False)\r\n",
    "\r\n",
    "print(x2_powder_direct.shape)\r\n",
    "print(x2_powder_direct_outlier_removed_df.shape)"
   ],
   "outputs": [
    {
     "output_type": "stream",
     "name": "stdout",
     "text": [
      "(75379, 8)\n",
      "(75106, 2)\n"
     ]
    }
   ],
   "metadata": {}
  },
  {
   "cell_type": "code",
   "execution_count": 161,
   "source": [
    "# Outlier removal and .csv creation of data when manufactuter is X2 and Product Type is Powder and Sourcing Channel in RETAIL\r\n",
    "x2_powder_retail_outlier_removed_df = pd.DataFrame(columns = [\"Month of Sourcing\", \"Sourcing Cost\"])\r\n",
    "x2_powder_retail_outlier_removed_df = outlier_removal(x2_powder_retail,x2_powder_retail_outlier_removed_df)\r\n",
    "x2_powder_retail_outlier_removed_df.to_csv(\"x2_powder_retail_outlier_removed_df.csv\", index= False)\r\n",
    "\r\n",
    "print(x2_powder_retail.shape)\r\n",
    "print(x2_powder_retail_outlier_removed_df.shape)"
   ],
   "outputs": [
    {
     "output_type": "stream",
     "name": "stdout",
     "text": [
      "(26261, 8)\n",
      "(25642, 2)\n"
     ]
    }
   ],
   "metadata": {}
  },
  {
   "cell_type": "code",
   "execution_count": 162,
   "source": [
    "print(\"EDA and Outlier Removal Complete\")"
   ],
   "outputs": [
    {
     "output_type": "stream",
     "name": "stdout",
     "text": [
      "EDA and Outlier Removal Complete\n"
     ]
    }
   ],
   "metadata": {}
  },
  {
   "cell_type": "markdown",
   "source": [
    "# All modeling .ipynb notebooks can be found in model directory"
   ],
   "metadata": {}
  }
 ],
 "metadata": {
  "orig_nbformat": 4,
  "language_info": {
   "name": "python",
   "version": "3.8.6",
   "mimetype": "text/x-python",
   "codemirror_mode": {
    "name": "ipython",
    "version": 3
   },
   "pygments_lexer": "ipython3",
   "nbconvert_exporter": "python",
   "file_extension": ".py"
  },
  "kernelspec": {
   "name": "python3",
   "display_name": "Python 3.8.6 64-bit"
  },
  "interpreter": {
   "hash": "01b15be19926ccc325f5889ba53bdd477e79541e198cc8cc3efb394300ce31a2"
  }
 },
 "nbformat": 4,
 "nbformat_minor": 2
}